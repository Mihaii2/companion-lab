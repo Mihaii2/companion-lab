{
 "cells": [
  {
   "cell_type": "markdown",
   "metadata": {},
   "source": [
    "# Naive Bayes"
   ]
  },
  {
   "cell_type": "markdown",
   "metadata": {},
   "source": [
    "## Exercise 1\n",
    "\n",
    "Learned probabilities\n",
    "\n",
    "Given the following run of the Naive Bayes algorithm without smoothing:"
   ]
  },
  {
   "cell_type": "code",
   "metadata": {
    "ExecuteTime": {
     "end_time": "2024-11-11T07:52:02.168838Z",
     "start_time": "2024-11-11T07:52:00.120428Z"
    }
   },
   "source": [
    "import pandas as pd\n",
    "from sklearn.naive_bayes import BernoulliNB\n",
    "\n",
    "# Create the training set\n",
    "features = ['study', 'free', 'money']\n",
    "target = 'is_spam'\n",
    "messages = pd.DataFrame(\n",
    "[(1, 0, 0, 0),\n",
    "(0, 0, 1, 0),\n",
    "(1, 0, 0, 0),\n",
    "(1, 1, 0, 0)] +\n",
    "[(0, 1, 0, 1)] * 4 +\n",
    "[(0, 1, 1, 1)] * 4,\n",
    "columns=features+[target])\n",
    "\n",
    "# Create the prediction set\n",
    "X = messages[features]\n",
    "y = messages[target]\n",
    "cl = BernoulliNB(alpha=1e-10).fit(X, y)\n",
    "\n",
    "print(cl.class_log_prior_)\n",
    "print(cl.feature_log_prob_)"
   ],
   "outputs": [
    {
     "name": "stdout",
     "output_type": "stream",
     "text": [
      "[-1.09861229 -0.40546511]\n",
      "[[-2.87682072e-01 -1.38629436e+00 -1.38629436e+00]\n",
      " [-2.51052925e+01 -1.24997790e-11 -6.93147181e-01]]\n"
     ]
    }
   ],
   "execution_count": 1
  },
  {
   "cell_type": "markdown",
   "metadata": {},
   "source": [
    "1. Write a function that independently calculates the value of the `class_log_prior_` attribute without smoothing using only `messages` as parameter. (These are the natural logarithms of class probabilities $P(v_j)$).\n",
    "2. Write a function that independently calculates the value of the `feature_log_prob_` attribute without smoothing using only `messages` as parameter. (These are the natural logarithms of attribute probabilities $P(a_i|v_j)$)."
   ]
  },
  {
   "cell_type": "markdown",
   "metadata": {},
   "source": [
    "## Exercise 2\n",
    "Expected error rate in training\n",
    "\n",
    "Consider a binary classification problem with features $X_1$ and $X_2$ and label $Y$. The two features are assumed to be conditionally independent with respect to $Y$ . The prior probabilities $P(Y=0)$ and $P(Y=1)$ are both equal to 0.5. The conditional probabilities are:\n",
    "\n",
    "<table style=\"float: left;\">\n",
    "    <tr>\n",
    "        <th>P(X1|Y)</th>\n",
    "        <th>Y=0</th>\n",
    "        <th>Y=1</th></tr>\n",
    "    <tr>\n",
    "        <th>X1=0</th>\n",
    "        <td>0.7</td>\n",
    "        <td>0.2</td></tr>\n",
    "    <tr>\n",
    "        <th>X1=1</th>\n",
    "        <td>0.3</td>\n",
    "        <td>0.8</td>\n",
    "    </tr>\n",
    "</table>\n",
    "\n",
    "<table style=\"float: left; margin-left: 20px;\">\n",
    "    <tr>\n",
    "        <th>P(X2|Y)</th>\n",
    "        <th>Y=0</th>\n",
    "        <th>Y=1</th></tr>\n",
    "    <tr>\n",
    "        <th>X2=0</th>\n",
    "        <td>0.9</td>\n",
    "        <td>0.5</td></tr>\n",
    "    <tr>\n",
    "        <th>X2=1</th>\n",
    "        <td>0.1</td>\n",
    "        <td>0.5</td>\n",
    "    </tr>\n",
    "</table>\n",
    "\n",
    "<br style=\"clear: left;\" />\n",
    "\n",
    "1. Generate a `DataFrame` with 1000 entries and three columns `['x1', 'x2', 'y']`, according to the description above, using the `bernoulli.rvs` function from `scipy`.\n",
    "1. After training on the DataFrame above, predict every combination of values for $X_1$ and $X_2$.\n",
    "1. Calculate the average error rate on the training dataset.\n",
    "1. Create a new attribute $X_3$ as a copy of $X_2$. What is the new average error rate on the training dataset?"
   ]
  },
  {
   "metadata": {
    "ExecuteTime": {
     "end_time": "2024-11-11T07:52:21.000780Z",
     "start_time": "2024-11-11T07:52:20.677200Z"
    }
   },
   "cell_type": "code",
   "source": [
    "import pandas as pd\n",
    "from scipy.stats import bernoulli\n",
    "from sklearn.naive_bayes import BernoulliNB\n",
    "import numpy as np\n",
    "\n",
    "n_samples = 1000\n",
    "\n",
    "y = bernoulli.rvs(0.5, size=n_samples)\n",
    "x1 = [bernoulli.rvs(0.7) if label == 0 else bernoulli.rvs(0.2) for label in y]\n",
    "x2 = [bernoulli.rvs(0.9) if label == 0 else bernoulli.rvs(0.5) for label in y]\n",
    "\n",
    "df = pd.DataFrame({'x1': x1, 'x2': x2, 'y': y})\n",
    "\n",
    "X = df[['x1', 'x2']]\n",
    "y = df['y']\n",
    "\n",
    "cl = BernoulliNB(alpha=1e-10).fit(X, y)\n",
    "\n",
    "predictions = cl.predict(X)\n",
    "\n",
    "print(f'Accuracy: {np.array(predictions == y).mean()}')\n",
    "\n",
    "df['x3'] = df['x2']\n",
    "\n",
    "X = df[['x1', 'x2', 'x3']]\n",
    "y = df['y']\n",
    "\n",
    "cl = BernoulliNB(alpha=1e-10).fit(X, y)\n",
    "\n",
    "predictions = cl.predict(X)\n",
    "\n",
    "print(f'New Accuracy: {np.array(predictions == y).mean()}')"
   ],
   "outputs": [
    {
     "name": "stdout",
     "output_type": "stream",
     "text": [
      "Accuracy: 0.77\n",
      "New Accuracy: 0.699\n"
     ]
    }
   ],
   "execution_count": 8
  },
  {
   "cell_type": "markdown",
   "metadata": {},
   "source": [
    "## Exercise 3\n",
    "Joint Bayes\n",
    "\n",
    "Considering the dataset below:"
   ]
  },
  {
   "cell_type": "code",
   "metadata": {
    "ExecuteTime": {
     "end_time": "2024-11-11T07:52:03.254086Z",
     "start_time": "2024-11-11T07:52:03.232283Z"
    }
   },
   "source": [
    "import pandas as pd\n",
    "from tools.pd_helpers import apply_counts\n",
    "\n",
    "d = pd.DataFrame({'X1': [0, 0, 1, 1, 0, 0, 1, 1],\n",
    "                  'X2': [0, 0, 0, 0, 1, 1, 1, 1],\n",
    "                  'C' : [2, 18, 4, 1, 4, 1, 2, 18],\n",
    "                  'Y' : [0, 1, 0, 1, 0, 1, 0, 1]})\n",
    "d=apply_counts(d, 'C')"
   ],
   "outputs": [],
   "execution_count": 3
  },
  {
   "cell_type": "markdown",
   "metadata": {},
   "source": [
    "1. Implement a simple version of the Joint Bayes algorithm by creating the `BernoulliJB` class, similar to `BernoulliNB` from `scikit`, but only implement the `fit(X,y)` and `predict_proba(X)` without smoothing.\n",
    "1. How many probabilities are estimated by the the Joint Bayes algorithm?\n",
    "1. What are probability estimates for the instance $X_1 = 0$, $X_2 = 0$ calculated by `predict_proba(X)` from `BernoulliJB`?\n",
    "1. What are the predicted probabilities of Naive Bayes (using `predict_proba(X)` from `BernoulliNB`) without smoothing for this instance?"
   ]
  },
  {
   "cell_type": "markdown",
   "metadata": {},
   "source": [
    "## Exercise 4\n",
    "Measuring the naivety assumption\n",
    "\n",
    "Consider a simple text classification that only considers two words: $w_1$ and $w_2$. The label $y$ will only be 1 if $w_1$ is present and $w_2$ is not, so the label is effectively the function $w1 \\land \\lnot w2$.\n",
    "\n",
    "The `correlated_df` function below will return such a dataset, with 10,000 entries and the columns `['w1', 'w2', 'y']`. The parameter `corr` specifies approximately how much correlation should exist between `w1` and `w2`."
   ]
  },
  {
   "cell_type": "code",
   "metadata": {
    "ExecuteTime": {
     "end_time": "2024-11-11T07:52:05.609226Z",
     "start_time": "2024-11-11T07:52:03.275123Z"
    }
   },
   "source": [
    "import numpy as np\n",
    "import matplotlib.pyplot as plt\n",
    "from scipy.stats import bernoulli\n",
    "from sklearn.tree import DecisionTreeClassifier\n",
    "from sklearn.naive_bayes import BernoulliNB\n",
    "from sklearn.metrics import accuracy_score\n",
    "\n",
    "def correlated_df(corr):\n",
    "    size = 10000\n",
    "    w1 = bernoulli.rvs(0.5, size=size, random_state=1)\n",
    "    d = pd.DataFrame({'w1': w1})\n",
    "    mask = bernoulli.rvs(corr, size=size, random_state=2)\n",
    "    random = bernoulli.rvs(0.5, size=size, random_state=3)\n",
    "    d['w2'] = d['w1'] & mask | random & ~mask\n",
    "    d['mask'] = mask\n",
    "    d['random'] = random\n",
    "    d['y'] = d['w1'] & ~d['w2']\n",
    "    return d\n",
    "\n",
    "# Exercise 1: Naive Bayes performance vs correlation\n",
    "corr_values = np.linspace(0, 1, 30)\n",
    "nb_train_errors = []\n",
    "\n",
    "for corr in corr_values:\n",
    "    df = correlated_df(corr)\n",
    "    model = BernoulliNB()\n",
    "    model.fit(df[['w1', 'w2']], df['y'])\n",
    "    y_pred = model.predict(df[['w1', 'w2']])\n",
    "    nb_train_errors.append(1 - accuracy_score(df['y'], y_pred))\n",
    "\n",
    "plt.figure(figsize=(8, 6))\n",
    "plt.plot(corr_values, nb_train_errors)\n",
    "plt.xlabel('Correlation')\n",
    "plt.ylabel('Training Error')\n",
    "plt.title('Naive Bayes Performance vs Correlation')\n",
    "plt.show()\n",
    "\n",
    "# Exercise 2: Decision Tree performance vs correlation \n",
    "dt_train_errors = []\n",
    "\n",
    "for corr in corr_values:\n",
    "    df = correlated_df(corr)\n",
    "    model = DecisionTreeClassifier()\n",
    "    model.fit(df[['w1', 'w2']], df['y'])\n",
    "    y_pred = model.predict(df[['w1', 'w2']])\n",
    "    dt_train_errors.append(1 - accuracy_score(df['y'], y_pred))\n",
    "\n",
    "plt.figure(figsize=(8, 6))\n",
    "plt.plot(corr_values, dt_train_errors)\n",
    "plt.xlabel('Correlation')\n",
    "plt.ylabel('Training Error')\n",
    "plt.title('Decision Tree Performance vs Correlation')\n",
    "plt.show()"
   ],
   "outputs": [
    {
     "data": {
      "text/plain": [
       "<Figure size 800x600 with 1 Axes>"
      ],
      "image/png": "[encoded data removed]"
     },
     "metadata": {},
     "output_type": "display_data"
    },
    {
     "data": {
      "text/plain": [
       "<Figure size 800x600 with 1 Axes>"
      ],
      "image/png": "[encoded data removed]"
     },
     "metadata": {},
     "output_type": "display_data"
    }
   ],
   "execution_count": 4
  },
  {
   "cell_type": "markdown",
   "metadata": {},
   "source": [
    "1. With the function above, create a line chart using `matplotlib` that shows how the correlation affects the training error of Naive Bayes (no smoothing).\n",
    "1. Using the function above, create a line chart that shows how the correlation affects the training error of a decision tree classifier (see the `DecisionTreeClassifier` class from `sklearn`)."
   ]
  },
  {
   "cell_type": "markdown",
   "metadata": {},
   "source": [
    "## Exercise 5\n",
    "Average error rate\n",
    "\n",
    "Given the function $Y = (A \\land B) \\lor \\neg(B \\lor C)$ where $A$, $B$ and $C$ are independent binary random variables, each of which having 50% chance of being 0 and 50% chance of being 1.\n",
    "\n",
    "1. Generate a DataFrame with 1000 entries and four columns `A`, `B`, `C` and `Y`, according to the description above, using the `bernoulli.rvs` function from `scipy`.\n",
    "1. Calculate the error rate for Naive Bayes on the training dataset.\n",
    "1. What is the average error rate on this training dataset for the Joint Bayes algorithm? (Note that you don't have to actually build the algorithm, just provide a theoretical justification.)"
   ]
  },
  {
   "cell_type": "markdown",
   "metadata": {},
   "source": [
    "## Exercise 6\n",
    "Text classification\n",
    "\n",
    "A news company would like to automatically sort the news articles related to sport from those related to politics. They are using 8 key words ($w_1,...,w_8)$ and have annotated several articles in each category for training:"
   ]
  },
  {
   "cell_type": "code",
   "metadata": {
    "ExecuteTime": {
     "end_time": "2024-11-11T07:52:05.649270Z",
     "start_time": "2024-11-11T07:52:05.637452Z"
    }
   },
   "source": [
    "import pandas as pd\n",
    "\n",
    "features = [f'w{i}' for i in range(1,9)]\n",
    "\n",
    "politics=pd.DataFrame([\n",
    "(1, 0, 1, 1, 1, 0, 1, 1),\n",
    "(0, 0, 0, 1, 0, 0, 1, 1),\n",
    "(1, 0, 0, 1, 1, 0, 1, 0),\n",
    "(0, 1, 0, 0, 1, 1, 0, 1),\n",
    "(0, 0, 0, 1, 1, 0, 1, 1),\n",
    "(0, 0, 0, 1, 1, 0, 0, 1)],\n",
    "columns=features)\n",
    "\n",
    "sport=pd.DataFrame([\n",
    "(1, 1, 0, 0, 0, 0, 0, 0),\n",
    "(0, 0, 1, 0, 0, 0, 0, 0),\n",
    "(1, 1, 0, 1, 0, 0, 0, 0),\n",
    "(1, 1, 0, 1, 0, 0, 0, 1),\n",
    "(1, 1, 0, 1, 1, 0, 0, 0),\n",
    "(0, 0, 0, 1, 0, 1, 0, 0),\n",
    "(1, 1, 1, 1, 1, 0, 1, 0)],\n",
    "columns=features)"
   ],
   "outputs": [],
   "execution_count": 5
  },
  {
   "cell_type": "markdown",
   "metadata": {},
   "source": [
    "According to Naive Bayes (without smoothing), what is the probability that the document `x = (1, 0, 0, 1, 1, 1, 1, 0)` is about politics?"
   ]
  }
 ],
 "metadata": {
  "kernelspec": {
   "display_name": "Python 3 (ipykernel)",
   "language": "python",
   "name": "python3"
  },
  "language_info": {
   "codemirror_mode": {
    "name": "ipython",
    "version": 3
   },
   "file_extension": ".py",
   "mimetype": "text/x-python",
   "name": "python",
   "nbconvert_exporter": "python",
   "pygments_lexer": "ipython3",
   "version": "3.12.3"
  }
 },
 "nbformat": 4,
 "nbformat_minor": 4
}
