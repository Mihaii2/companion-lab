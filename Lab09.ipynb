{
 "cells": [
  {
   "cell_type": "markdown",
   "id": "c6b704f5-a47c-4124-8be4-a27e13ca3503",
   "metadata": {},
   "source": [
    "# Logistic Regression\n",
    "\n",
    "To be updated."
   ]
  }
 ],
 "metadata": {
  "kernelspec": {
   "display_name": "Python 3 (ipykernel)",
   "language": "python",
   "name": "python3"
  },
  "language_info": {
   "codemirror_mode": {
    "name": "ipython",
    "version": 3
   },
   "file_extension": ".py",
   "mimetype": "text/x-python",
   "name": "python",
   "nbconvert_exporter": "python",
   "pygments_lexer": "ipython3",
   "version": "3.12.3"
  }
 },
 "nbformat": 4,
 "nbformat_minor": 5
}
