{
 "cells": [
  {
   "cell_type": "markdown",
   "id": "c6b704f5-a47c-4124-8be4-a27e13ca3503",
   "metadata": {},
   "source": [
    "# Logistic Regression\n",
    "\n",
    "\n",
    "A statistical method best suited for binary classification problems. Instead of predicting the outcome directly, it models the probability that an outcome belongs to a particular category (e.g., spam or not spam).\n",
    "\n",
    "Advantages:\n",
    "\n",
    "  * Simplicity and interpretability\n",
    "  * Probabilistic outputs\n",
    "  * Efficient training on large datasets\n",
    "  * Not affected by duplicated attributes\n",
    "\n",
    "Disadvantages:\n",
    "  * Assumes linearity between independent variables and the logit\n",
    "  * Not suitable for non-linear problems without feature engineering\n",
    "  * Can be affected by outliers"
   ]
  },
  {
   "cell_type": "markdown",
   "id": "ce89a1dc-4d48-4c80-b51a-63b190ec4eb3",
   "metadata": {},
   "source": [
    "## Practical example\n",
    "\n",
    "### Dataset"
   ]
  },
  {
   "cell_type": "markdown",
   "id": "5118eb76-f50e-456a-8bf1-fa0b89ad954a",
   "metadata": {},
   "source": [
    "Let's consider a dataframe with one numeric predictor variable and one binary target variable, such as the number of **hours** a student studies for an exam and wether or not the exam was **passed**."
   ]
  },
  {
   "cell_type": "code",
   "execution_count": 1,
   "id": "8fd3e137-d30f-45ab-8c93-ab042e3d313c",
   "metadata": {},
   "outputs": [
    {
     "data": {
      "text/html": [
       "<div>\n",
       "<style scoped>\n",
       "    .dataframe tbody tr th:only-of-type {\n",
       "        vertical-align: middle;\n",
       "    }\n",
       "\n",
       "    .dataframe tbody tr th {\n",
       "        vertical-align: top;\n",
       "    }\n",
       "\n",
       "    .dataframe thead th {\n",
       "        text-align: right;\n",
       "    }\n",
       "</style>\n",
       "<table border=\"1\" class=\"dataframe\">\n",
       "  <thead>\n",
       "    <tr style=\"text-align: right;\">\n",
       "      <th></th>\n",
       "      <th>Hours</th>\n",
       "      <th>Pass</th>\n",
       "    </tr>\n",
       "  </thead>\n",
       "  <tbody>\n",
       "    <tr>\n",
       "      <th>0</th>\n",
       "      <td>0.50</td>\n",
       "      <td>0</td>\n",
       "    </tr>\n",
       "    <tr>\n",
       "      <th>1</th>\n",
       "      <td>0.75</td>\n",
       "      <td>0</td>\n",
       "    </tr>\n",
       "    <tr>\n",
       "      <th>2</th>\n",
       "      <td>1.00</td>\n",
       "      <td>0</td>\n",
       "    </tr>\n",
       "    <tr>\n",
       "      <th>3</th>\n",
       "      <td>1.25</td>\n",
       "      <td>0</td>\n",
       "    </tr>\n",
       "    <tr>\n",
       "      <th>4</th>\n",
       "      <td>1.50</td>\n",
       "      <td>0</td>\n",
       "    </tr>\n",
       "  </tbody>\n",
       "</table>\n",
       "</div>"
      ],
      "text/plain": [
       "   Hours  Pass\n",
       "0   0.50     0\n",
       "1   0.75     0\n",
       "2   1.00     0\n",
       "3   1.25     0\n",
       "4   1.50     0"
      ]
     },
     "execution_count": 1,
     "metadata": {},
     "output_type": "execute_result"
    }
   ],
   "source": [
    "import pandas as pd\n",
    "\n",
    "# Create the dataset as a pandas DataFrame\n",
    "data = {\n",
    "    \"Hours\": [0.50, 0.75, 1.00, 1.25, 1.50, 1.75, 2.00, 2.25, 2.50, 2.75, 3.00, 3.25, 3.50, 4.00, 4.25, 4.50, 4.75, 5.00, 5.50],\n",
    "    \"Pass\": [0, 0, 0, 0, 0, 0, 0, 1, 0, 1, 0, 1, 1, 1, 1, 1, 1, 1, 1]\n",
    "}\n",
    "\n",
    "df = pd.DataFrame(data)\n",
    "df.head(5)\n"
   ]
  },
  {
   "cell_type": "markdown",
   "id": "7d7bd74c-c44e-4ab5-91d7-c1d35fd4bf9e",
   "metadata": {},
   "source": [
    "Note that Logistic Regression uses as a convetion that the target variable takes the values **0 and 1**. This makes the underlying formulas easier to work with."
   ]
  },
  {
   "cell_type": "markdown",
   "id": "f8828b5e-0cf5-4c2f-bf11-8a9e6e237cf8",
   "metadata": {},
   "source": [
    "We can plot the dataset as usual with `matplotlib`:"
   ]
  },
  {
   "cell_type": "code",
   "execution_count": 2,
   "id": "e5ee5048-0792-46f2-8ddb-3e7f7be4e2a2",
   "metadata": {},
   "outputs": [
    {
     "data": {
      "image/png": "[encoded data removed]",
      "text/plain": [
       "<Figure size 600x200 with 1 Axes>"
      ]
     },
     "metadata": {},
     "output_type": "display_data"
    }
   ],
   "source": [
    "import matplotlib.pyplot as plt\n",
    "fig, ax = plt.subplots(figsize=(6, 2))\n",
    "plt.scatter(data['Hours'], data['Pass'])\n",
    "plt.xlabel('X (Hours)')\n",
    "plt.ylabel('Y (Pass)')\n",
    "plt.yticks([0, 1])\n",
    "plt.ylim([-0.3, 1.3])\n",
    "plt.grid(linestyle='--')\n",
    "plt.show()"
   ]
  },
  {
   "cell_type": "markdown",
   "id": "fa72f39d-1f39-4d7a-b08c-8e40d6fd2ad0",
   "metadata": {},
   "source": [
    "### Training\n",
    "\n",
    "Training a logistic regression in this case is as simple as calling the `fit()` function on the data:"
   ]
  },
  {
   "cell_type": "code",
   "execution_count": 3,
   "id": "e15f0a6f-a637-4fed-b68a-40cd6a3aa374",
   "metadata": {},
   "outputs": [],
   "source": [
    "from sklearn.linear_model import LogisticRegression\n",
    "\n",
    "X = df[[\"Hours\"]]  # Feature: Hours\n",
    "y = df[\"Pass\"]     # Target: Pass\n",
    "\n",
    "model = LogisticRegression().fit(X, y)"
   ]
  },
  {
   "cell_type": "markdown",
   "id": "7da7fc89-c948-486f-ab57-9c1dfd4169fe",
   "metadata": {},
   "source": [
    "### Visualising the model\n",
    "\n",
    "The model learned by the model is essentially a function representing the probability that the target variable is 1.\n",
    "\n",
    "We can use the model to generate probabilities for 100 evenly distributed on the $X$ axis:"
   ]
  },
  {
   "cell_type": "code",
   "execution_count": 4,
   "id": "85ef4817-18f4-4107-b1ad-89e0d8777a7f",
   "metadata": {},
   "outputs": [],
   "source": [
    "import numpy as np\n",
    "# Generate a range of Hours values\n",
    "model_line_x = pd.DataFrame({'Hours': np.linspace(df[\"Hours\"].min(), df[\"Hours\"].max(), 100)})\n",
    "# Predict probabilities for the range\n",
    "model_line_y = model.predict_proba(model_line_x)[:, 1]"
   ]
  },
  {
   "cell_type": "markdown",
   "id": "c1b0f23e-2d7d-49ee-a5f4-02934bfde252",
   "metadata": {},
   "source": [
    "And then add these to the dataset visualisation from before:"
   ]
  },
  {
   "cell_type": "code",
   "execution_count": 5,
   "id": "14d077fd-a2ae-4515-a5f9-4129fe0177be",
   "metadata": {},
   "outputs": [
    {
     "data": {
      "image/png": "[encoded data removed]",
      "text/plain": [
       "<Figure size 600x200 with 1 Axes>"
      ]
     },
     "metadata": {},
     "output_type": "display_data"
    }
   ],
   "source": [
    "import matplotlib.pyplot as plt\n",
    "fig, ax = plt.subplots(figsize=(6, 2))\n",
    "plt.scatter(data['Hours'], data['Pass'])\n",
    "\n",
    "# Added the model line (rest of the code is the same)\n",
    "plt.plot(model_line_x, model_line_y, color=\"orange\", label=\"Logistic Regression curve\")\n",
    "\n",
    "plt.xlabel('X (Hours)')\n",
    "plt.ylabel('Y (Pass)')\n",
    "plt.yticks([0, 1])\n",
    "plt.ylim([-0.3, 1.3])\n",
    "plt.grid(linestyle='--')\n",
    "plt.show()"
   ]
  },
  {
   "cell_type": "markdown",
   "id": "e4887929-b990-4fbb-98bf-c89eec7dba81",
   "metadata": {},
   "source": [
    "The model line shows the probability of passing the exam is steadily increasing from amost 0 to almost 1 as the number of hours of study increase, with the **tipping point of 0.5** somewhere between 2 and 3 hours (at around 2.6).\n",
    "\n",
    "This immediately shows that the model will predict a **fail** for any value **less** than the 2.6 hour threshold and pass for any value greater."
   ]
  },
  {
   "cell_type": "markdown",
   "id": "ab11f46b-a88f-4847-b2ab-0d1a13be13a8",
   "metadata": {},
   "source": [
    "### Predicting the class\n",
    "\n",
    "We can quickly test this by creating a test set including 0.5 hours, 2.5 hours, 2.9 hours and 4.5 hours. We expect the first two values to be predicted as fail (i.e. value 0) and the last two values as pass (i.e. value 1)."
   ]
  },
  {
   "cell_type": "code",
   "execution_count": 6,
   "id": "59760708-3805-4c54-8d72-cf830624bc27",
   "metadata": {},
   "outputs": [
    {
     "data": {
      "text/plain": [
       "array([0, 0, 1, 1])"
      ]
     },
     "execution_count": 6,
     "metadata": {},
     "output_type": "execute_result"
    }
   ],
   "source": [
    "## Predicting\n",
    "\n",
    "X_test = pd.DataFrame({'Hours': [0.5, 2.5, 2.9, 4.5]})\n",
    "model.predict(X_test)"
   ]
  },
  {
   "cell_type": "markdown",
   "id": "8ee42260-9182-4466-9fd8-83664e09ee86",
   "metadata": {},
   "source": [
    "And indeed we can see that the predictions are the expected ones."
   ]
  },
  {
   "cell_type": "markdown",
   "id": "de944c49-277e-4655-9824-aa03f1b774e8",
   "metadata": {},
   "source": [
    "### Predicting the probability\n",
    "\n",
    "If we're interested not only in what is most probable, but how probable the values are we can use the `predict_proba` function as seen in the visualisation step, which will simply return the value of the probability function for each point. So for the test set above, just by looking at the graphic we can see that the four probabilities should be close to 0.5 for 2.5 and 2.9 and very low and very high for the remaining two respectively."
   ]
  },
  {
   "cell_type": "code",
   "execution_count": 7,
   "id": "b2bc0d2c-2552-4b18-a083-e5ef0cd52b42",
   "metadata": {},
   "outputs": [
    {
     "data": {
      "text/plain": [
       "array([[0.96416697, 0.03583303],\n",
       "       [0.55945356, 0.44054644],\n",
       "       [0.40811937, 0.59188063],\n",
       "       [0.05654537, 0.94345463]])"
      ]
     },
     "execution_count": 7,
     "metadata": {},
     "output_type": "execute_result"
    }
   ],
   "source": [
    "model.predict_proba(X_test)"
   ]
  },
  {
   "cell_type": "markdown",
   "id": "3fc76efb-462a-4577-adb0-064d26df92ab",
   "metadata": {},
   "source": [
    "Note that the results show the probability of 0 and 1 for each of the points, so if we're interested in the probability of passing the exam, we can consider only the second column:"
   ]
  },
  {
   "cell_type": "code",
   "execution_count": 8,
   "id": "fac83478-4ffb-46b7-b247-28831101d3e2",
   "metadata": {},
   "outputs": [
    {
     "data": {
      "text/plain": [
       "array([0.03583303, 0.44054644, 0.59188063, 0.94345463])"
      ]
     },
     "execution_count": 8,
     "metadata": {},
     "output_type": "execute_result"
    }
   ],
   "source": [
    "model.predict_proba(X_test)[:,1]"
   ]
  },
  {
   "cell_type": "markdown",
   "id": "1536f96e-6d3e-4ca0-ad53-afbdbd9df332",
   "metadata": {},
   "source": [
    "## Theoretical foundations\n",
    "\n",
    "### Assumptions\n",
    "\n",
    "If we refer to the feature set as a matrix $X$ and the target variable as a vectory $Y$ we could represent the entire training dataset as a matrix:\n",
    "\n",
    "$$\n",
    "\\mathbf{D} =\n",
    "\\begin{bmatrix}\n",
    "x_{1}^{(1)} & x_{2}^{(1)} & ... & x_{d}^{(1)} & y^{(1)} \\\\\n",
    "x_{1}^{(2)} & x_{2}^{(2)} & ... & x_{d}^{(2)} & y^{(2)} \\\\\n",
    "... \\\\\n",
    "x_{1}^{(n)} & x_{2}^{(n)} & ... & x_{d}^{(n)} & y^{(n)}\n",
    "\\end{bmatrix}\n",
    "$$\n",
    "\n",
    "where $y^{(i)} \\in \\set{0, 1}$ for $i = 1,...,n$."
   ]
  },
  {
   "cell_type": "markdown",
   "id": "bc73ec9d-07a3-46c6-bc5d-b282847f22a2",
   "metadata": {},
   "source": [
    "The _fundamental assumption_ of the logistic regression is that $P(Y|X)$ can be approximated using a logistic function.\n",
    "\n",
    "In other words, it assumes that for a given $x^{(i)}$ and $y^{(i)}$ (i.e. for one instance of the training dataset), we have:\n",
    "\n",
    "$$\n",
    "P(y^{(i)} = 1) = \\sigma(z) = \\frac{e^z}{1 + e^z}\n",
    "$$\n",
    "\n",
    "and\n",
    "\n",
    "$$\n",
    "P(y^{(i)} = 0) = 1 - \\sigma(z) = 1 - \\frac{e^z}{1 + e^z}\n",
    "$$\n",
    "\n",
    "where $z = w_0 + w_1 x_1^{(i)} +...+ w_d x_d^{(i)}$ and $w = (w_0, w_1,...,w_d)$ and $\\sigma(z)$ is the **logistic function**.\n",
    "\n",
    "As a shorthand, if we assume that $x^{(i)}$ includes the component $x_0^{(i)} = 1$, we can write simply: $z = w \\cdot x^{(i)}$ (the scalar product, or dot product).\n",
    "\n",
    "Also, we can compress the formulas for $P(y^{(i)} = 1)$ and $P(y^{(i)} = 0)$ by making use of the fact that $y$ can only be 1 or 0, so we could write simply:\n",
    "\n",
    "$$\n",
    "P(y^{(i)}) = \\sigma(z)^{y^{(i)}} [1-\\sigma(z)]^{1-y^{(i)}}\n",
    "$$\n",
    "\n",
    "which give the correct answer both for $y^{(i)} = 0$ and for $y^{(i)} = 1$ and is very easy to work with when calculating the derivatives."
   ]
  },
  {
   "cell_type": "markdown",
   "id": "c9df4ec1-e604-4810-b512-9b1f49da2b3a",
   "metadata": {},
   "source": [
    "Given the above, assumption, the algorithm will now try to to find the **maximum likelyhood estimation** of the $w$ parameter for the probability of the dataset $D$.\n",
    "\n",
    "In other words, it will try to find the $w$ that maximizes $P(D|w)$.\n",
    "\n",
    "### Step 1 - find the likelihood function\n",
    "\n",
    "Since the observations are considered independent, we have: $P(D|w) = P(x^{(1)}, y^{(1)}|w) \\cdot ... \\cdot P(x^{(n)}, y^{(n)}|w)=\\prod_{i=1}^nP(x^{(i)}, y^{(i)}|w).$\n",
    "\n",
    "But, as we've seen above, the fundamental assumption of the logistic regression is that there is a specific function for $P(y^{(i)} | x^{(i)})$, so we can further write the above function (using the conditional probability formula):\n",
    "\n",
    "$$\n",
    "P(D|w) = \\prod_{i=1}^nP(y^{(i)}, x^{(i)}|w) = \\prod_{i=1}^nP(y^{(i)}|x^{(i)}, w)P(x^{(i)}| w)\n",
    "$$\n",
    "\n",
    "### Step 2 - apply the logarithm (find the log-likelyhood)\n",
    "\n",
    "\\begin{align}\n",
    "l(w) &= \\ln P(D|w)\\\\\n",
    "&= \\ln \\prod_{i=1}^nP(y^{(i)}|x^{(i)}, w)P(x^{(i)}| w)\\\\\n",
    "&= \\ln \\prod_{i=1}^nP(y^{(i)}|x^{(i)}, w) + \\ln \\prod_{i=1}^n P(x^{(i)}| w)\n",
    "\\end{align}\n",
    "\n",
    "However, note that the second part of the sum, namely the term $\\ln \\prod_{i=1}^n P(x^{(i)}| w)$ is not a function of $w$, so is constant as far as maximising $P(D|w)$ is concerned. We can replace it with a constant $l_z$:\n",
    "\n",
    "$$\n",
    "l(w) =\\ln \\prod_{i=1}^nP(y^{(i)}|x^{(i)}, w) + l_z\n",
    "$$\n",
    "\n",
    "We can now replace the logistic formula discussed above, to get:\n",
    "\n",
    "$$\n",
    "l(w) = \\sum_{i=1}^n \\ln [\\sigma(z)^{y^{(i)}} [1-\\sigma(z)]^{1-y^{(i)}}] + l_z\n",
    "$$\n",
    "\n",
    "### Step 3 - find the maximum of the log-likelihood\n",
    "\n",
    "If we calculate the partial derivative with respect to the component $w_j$ we get:\n",
    "$$\n",
    "\\frac{\\partial}{\\partial{w_j}}l(w) = \\sum_{i=1}^n[y^{(i)}-\\sigma(w \\cdot x^{(i)})]x_j^{(i)}.\n",
    "$$\n",
    "\n",
    "Normally at this step we want to set the derivative equal to 0 and find the analytical solution. However, in this case there is no closed form formula, but the function is concave and does have a global maximum, so a **gradient ascent** algorithm can be used used, where the increment at each step on the dimension $j$ is given by:\n",
    "\n",
    "$$\n",
    "w_j^{new} = w_j^{old} + \\eta \\frac{\\partial}{\\partial{w_j}}l(w^{old}),\n",
    "$$\n",
    "\n",
    "where $\\eta$ is the *learning rate*. A small value of the learning rate typically means slower convergence (longer time to find the optimum) but a more accurate result, while a large value of $\\eta$ means faster convergence, but a possiblity to \"overshoot\" the target, and not converge on the optimum value for the maximum. \n",
    "\n",
    "In practice though this is not an issue as the solvers included in `sklearn` are both robust and very accurate."
   ]
  }
 ],
 "metadata": {
  "kernelspec": {
   "display_name": "Python 3 (ipykernel)",
   "language": "python",
   "name": "python3"
  },
  "language_info": {
   "codemirror_mode": {
    "name": "ipython",
    "version": 3
   },
   "file_extension": ".py",
   "mimetype": "text/x-python",
   "name": "python",
   "nbconvert_exporter": "python",
   "pygments_lexer": "ipython3",
   "version": "3.12.3"
  }
 },
 "nbformat": 4,
 "nbformat_minor": 5
}
