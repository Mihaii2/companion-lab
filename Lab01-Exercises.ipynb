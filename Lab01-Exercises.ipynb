{
 "cells": [
  {
   "cell_type": "markdown",
   "metadata": {},
   "source": [
    "# Elementary Notions in Probability"
   ]
  },
  {
   "cell_type": "markdown",
   "metadata": {},
   "source": [
    "## Exercise 1*\n",
    "(Events, implementation)\n",
    "\n",
    "Illustrate DeMorgan's laws using the `plot_venn()` function and standard Python set operations:\n",
    "1. $\\neg (A\\cup B) = \\neg A \\cap \\neg B$\n",
    "1. $\\neg (A\\cap B) = \\neg A \\cup \\neg B$"
   ]
  },
  {
   "cell_type": "code",
   "execution_count": 1,
   "metadata": {},
   "outputs": [],
   "source": [
    "from tools.venn import A, B, omega, plot_venn\n",
    "# First law\n",
    "\n",
    "# Second law"
   ]
  },
  {
   "cell_type": "markdown",
   "metadata": {},
   "source": [
    "## Exercise 2\n",
    "(Product of sample spaces, implementation)\n",
    "\n",
    "Two dice are thrown simultaneously. Calculate the probability that the sum is 11."
   ]
  },
  {
   "cell_type": "code",
   "execution_count": 2,
   "metadata": {},
   "outputs": [],
   "source": [
    "from itertools import product\n",
    "\n",
    "# Code here"
   ]
  },
  {
   "cell_type": "markdown",
   "metadata": {},
   "source": [
    "## Exercise 3\n",
    "(Conditional probabilities, implementation)\n",
    "\n",
    "The event S represents the sum of two dice. What is the probability that S=11 knowing that S is a prime?"
   ]
  },
  {
   "cell_type": "code",
   "execution_count": 3,
   "metadata": {},
   "outputs": [],
   "source": [
    "from itertools import product\n",
    "\n",
    "# Code here"
   ]
  },
  {
   "cell_type": "markdown",
   "metadata": {},
   "source": [
    "## Exercise 4* - Monty Hall problem\n",
    "(Bayes' theorem, implementation and analysis)\n",
    "\n",
    "Suppose you are in a game show and you're given the choice of three doors; behind one is a car, behind the others, goats. You pick door no. 1, but don't open it. The game host (who knows what is behind each door) then opens a door which always has a goat (in this case opens door no. 2) and asks you if you still want to open door no.1 or you want to switch to no.3. \n",
    "\n",
    "What are the probabilities of finding the car in the two cases?\n",
    "\n",
    "1. Create a Python simulation for 1000 games to estimate the answer.\n",
    "2. Find the answer using the `tool.stats.probability_weighted` function (see [this approach](http://web.mit.edu/neboat/Public/6.042/probabilityintro.pdf) for constructing the sample space).\n",
    "3. Find the answer mathematically by applying Bayes' theorem and the law of total probability."
   ]
  },
  {
   "metadata": {},
   "cell_type": "markdown",
   "source": [
    "## Exercise 5\n",
    "(Probabilities, analysis)\n",
    "\n",
    "Using the definition of the probability, prove that:\n",
    "\n",
    "1. $P(\\neg A) = 1-P(A)$\n",
    "1. $A \\subseteq B \\Rightarrow P(A) \\leq P(B)$\n",
    "\n",
    "## Exercise 6*\n",
    "(Probabilities, analysis)\n",
    "\n",
    "Using the definition of the probability, prove that:\n",
    "\n",
    "1. $P(A \\setminus B) = P(A) - P(A \\cap B)$\n",
    "1. $P(A \\cup B) = P(A) + P(B) - P(A \\cap B)$"
   ]
  },
  {
   "metadata": {},
   "cell_type": "markdown",
   "source": [
    "## Exercise 7\n",
    "\n",
    "(Independent events, analysis)\n",
    "\n",
    "Two soldiers A and B are doing target practice. The probability that soldier A misses is 1/5. The probability that soldier B misses is 1/2. Probability that both miss at the same time is 1/10.\n",
    "\n",
    "1. Are the two events independent?\n",
    "1. What is the probability that at least one of the soldiers misses?\n",
    "1. What is the probability that exactly one of the soldiers misses?"
   ]
  },
  {
   "cell_type": "markdown",
   "metadata": {},
   "source": [
    "## Exercise 8\n",
    "(Independent events, implementation)\n",
    "\n",
    "Consider the event space corresponding to two tosses of a fair coin, and the events A \"heads on toss 1\", B \"heads on toss 2\" and C \"the two tosses are equal\". Using the `tools.stats.probability` function, find if:\n",
    "\n",
    "1. events A and B are independent;\n",
    "1. events A and C are independent."
   ]
  },
  {
   "cell_type": "code",
   "metadata": {
    "ExecuteTime": {
     "end_time": "2024-10-08T19:27:30.046425Z",
     "start_time": "2024-10-08T19:27:30.032274Z"
    }
   },
   "source": [
    "'''\n",
    "## Exercise 8\n",
    "(Independent events, implementation)\n",
    "\n",
    "Consider the event space corresponding to two tosses of a fair coin, and the events A \"heads on toss 1\", B \"heads on toss 2\" and C \"the two tosses are equal\". Using the `tools.stats.probability` function, find if:\n",
    "\n",
    "1. events A and B are independent;\n",
    "1. events A and C are independent.\n",
    "'''\n",
    "\n",
    "from tools.stats import probability\n",
    "from typing import Set, Any\n",
    "# Two events A and B if their joint probability equals the product of their probabilities\n",
    "\n",
    "def are_independent(A: Set[Any], B: Set[Any], omega: Set[Any]) -> bool:\n",
    "    \"\"\"Check if two events A and B are independent\"\"\"\n",
    "    prob_A = probability(A, omega)\n",
    "    prob_B = probability(B, omega)\n",
    "    prob_intersection = probability(A.intersection(B), omega)\n",
    "    return abs(prob_intersection - (prob_A * prob_B)) < 1e-10  # Using small epsilon for float comparison\n",
    "\n",
    "# Define the sample space and events\n",
    "omega = {\"TT\", \"HT\", \"TH\", \"HH\"}\n",
    "A = {\"HT\", \"HH\"}  # heads on toss 1\n",
    "B = {\"TH\", \"HH\"}  # heads on toss 2\n",
    "C = {\"TT\", \"HH\"}  # the two tosses are equal\n",
    "\n",
    "# Check independence of A and B\n",
    "print(\"Are A and B independent?\", are_independent(A, B, omega))\n",
    "\n",
    "# Check independence of A and C\n",
    "print(\"Are A and C independent?\", are_independent(A, C, omega))\n",
    "\n",
    "# Optional: Print probabilities for verification\n",
    "print(f\"P(A) = {probability(A, omega):.2f}\")\n",
    "print(f\"P(B) = {probability(B, omega):.2f}\")\n",
    "print(f\"P(C) = {probability(C, omega):.2f}\")\n",
    "print(f\"P(A ∩ B) = {probability(A.intersection(B), omega):.2f}\")\n",
    "print(f\"P(A ∩ C) = {probability(A.intersection(C), omega):.2f}\")"
   ],
   "outputs": [
    {
     "name": "stdout",
     "output_type": "stream",
     "text": [
      "Are A and B independent? True\n",
      "Are A and C independent? True\n",
      "P(A) = 0.50\n",
      "P(B) = 0.50\n",
      "P(C) = 0.50\n",
      "P(A ∩ B) = 0.25\n",
      "P(A ∩ C) = 0.25\n"
     ]
    }
   ],
   "execution_count": 4
  },
  {
   "cell_type": "markdown",
   "metadata": {},
   "source": [
    "# Elementary Notions in Statistics"
   ]
  },
  {
   "cell_type": "markdown",
   "metadata": {},
   "source": [
    "## Exercise 9*\n",
    "(Random variables, implementation)\n",
    "\n",
    "Give an example of a a real phenomenon modelled by the following discrete distributions and plot an illustrative pmf for that phenomenon using `matplotlib` and `scipy.stats` functions:\n",
    "\n",
    "1. binomial;\n",
    "2. geometric."
   ]
  },
  {
   "cell_type": "markdown",
   "metadata": {},
   "source": [
    "## Exercise 10*\n",
    "(Random variables, implementation)\n",
    "\n",
    "Give an example of a real phenomenon modelled by the following continuous distributions and plot an illustrative pdf for that phenomenon using `matplotlib` and `scipy.stats` functions:\n",
    "\n",
    "1. gamma;\n",
    "2. Pareto."
   ]
  },
  {
   "cell_type": "markdown",
   "metadata": {},
   "source": [
    "## Exercise 11*\n",
    "\n",
    "(Random variables, implementation)\n",
    "\n",
    "Suppose you measure the temperature 10 consecutive days with a thermometer that has a small random error. \n",
    "\n",
    "1. What is the mean temperature, knowing that the mean error is +1°C and the measurements are those in the variable $Y$ below.\n",
    "2. A second thermometer with a Fahrenheit scale ($T_{(°F)} = T_{(°C)} × 1.8 + 32$) measures the temperature in a different region. The variance measured by this thermometer (in Fahrenheit) is 8. Where is the temperature more stable: in your region, or in the region measured by the second thermometer?"
   ]
  },
  {
   "cell_type": "code",
   "execution_count": 1,
   "metadata": {},
   "outputs": [],
   "source": [
    "Y = [21, 20, 22, 23, 20, 19, 19, 18, 19, 20]\n",
    "\n",
    "# Your code here"
   ]
  },
  {
   "cell_type": "markdown",
   "metadata": {},
   "source": [
    "## Exercise 12\n",
    "(Random variable, implementation)\n",
    "\n",
    "Let $S$ be the outcome of a random variable describing the sum of two dice thrown independently.\n",
    "\n",
    "1. Print the probability distribution of $S$ graphically.\n",
    "1. Determine $E[S]$ and $Var(S)$."
   ]
  },
  {
   "cell_type": "markdown",
   "metadata": {},
   "source": [
    "## Exercise 13\n",
    "(Random variable, conceptual)\n",
    "\n",
    "The probability distribution of a discrete random variable $X$ is given by\n",
    "\n",
    "$P(X=-1)=1/5, P(X=0)=2/5, P(X=1)=2/5$.\n",
    "\n",
    "1. Compute $E[X]$.\n",
    "1. Give the probability distribution of $Y=X^2$ and compute $E[Y]$ using the distribution of $Y$.\n",
    "1. Determine $E[X^2]$ using the change-of-variable formula. Check your answer against the answer in 2.\n",
    "1. Determine $Var(X)$."
   ]
  },
  {
   "cell_type": "markdown",
   "metadata": {},
   "source": [
    "## Exercise 14\n",
    "(binomial distribution, applied)\n",
    "\n",
    "A sailor is trying to walk on a slippery deck, but because of the movements of the ship, he can make exactly one step every second, either forward (with probability $p=0.5$) or backward (with probability $1-p=0.5$). Using the `scipy.stats.binom` package, determine the probability that the sailor is in position +8 after 16 seconds."
   ]
  },
  {
   "cell_type": "markdown",
   "metadata": {},
   "source": [
    "## Exercise 15\n",
    "(geometric distribution, applied)\n",
    "\n",
    "In order to finish a board game, a player must get an exact 3 on a regular die. Using the `scipy.stats.geom` package, determine how many tries will it take to win the game (on average)? What are the best and worst cases?"
   ]
  },
  {
   "cell_type": "markdown",
   "metadata": {},
   "source": [
    "## Exercise 16\n",
    "(gamma distribution, applied)\n",
    "\n",
    "The grades from an exam roughly follow a Gamma distribution with parameters $k=9$ (shape parameter) and $\\theta=0.5$ (scale parameter). Using the `scipy.stats.gamma` package, determine what percentage of students will pass the exam, if the minimum score is 3."
   ]
  }
 ],
 "metadata": {
  "kernelspec": {
   "display_name": "Python 3 (ipykernel)",
   "language": "python",
   "name": "python3"
  },
  "language_info": {
   "codemirror_mode": {
    "name": "ipython",
    "version": 3
   },
   "file_extension": ".py",
   "mimetype": "text/x-python",
   "name": "python",
   "nbconvert_exporter": "python",
   "pygments_lexer": "ipython3",
   "version": "3.12.3"
  }
 },
 "nbformat": 4,
 "nbformat_minor": 4
}
