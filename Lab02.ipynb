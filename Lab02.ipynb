{
 "cells": [
  {
   "cell_type": "markdown",
   "metadata": {},
   "source": [
    "# Introduction to Information Theory\n",
    "\n",
    "A quick reminder video: https://youtu.be/kzsrbnWzvbE"
   ]
  },
  {
   "cell_type": "markdown",
   "metadata": {},
   "source": [
    "## Information"
   ]
  },
  {
   "cell_type": "markdown",
   "metadata": {},
   "source": [
    "In the field of information theory, _information_ is thought of as a set of possible symbols chosen from an alphabet, that a transmitter needs to specify to a receiver. The fundamental unit of information is the _bit_, the quantity of information needed to distinguish between two likely events. The bit of information can take decimal values, so values like 0.3 bits are perfectly valid. \n",
    "\n",
    "For example, if we consider all 26 lowercase letters from the English alphabet, the number of bits of information needed to transmit a letter is:"
   ]
  },
  {
   "cell_type": "code",
   "metadata": {
    "ExecuteTime": {
     "end_time": "2024-10-12T07:07:30.697934Z",
     "start_time": "2024-10-12T07:07:30.683229Z"
    }
   },
   "source": [
    "import math\n",
    "math.log2(26)"
   ],
   "outputs": [
    {
     "data": {
      "text/plain": [
       "4.700439718141092"
      ]
     },
     "execution_count": 3,
     "metadata": {},
     "output_type": "execute_result"
    }
   ],
   "execution_count": 3
  },
  {
   "cell_type": "markdown",
   "metadata": {},
   "source": [
    "More generally, if an event $E$ is transmitted from the set of all possible events, then the quantity of information transmitted, measured in bits, is:\n",
    "    \n",
    "$$\n",
    "\\begin{align}\n",
    "  I(E) = log_2\\frac{1}{P(E)}\n",
    "\\end{align}\n",
    "$$\n",
    "\n",
    "where $P(E)$ is the probability of the event $E$."
   ]
  },
  {
   "cell_type": "markdown",
   "metadata": {},
   "source": [
    "---\n",
    "**Give it a try!**\n",
    "\n",
    "How many bits are needed to transmit the outcome of a die throw?"
   ]
  },
  {
   "cell_type": "code",
   "metadata": {
    "ExecuteTime": {
     "end_time": "2024-10-12T07:22:14.797369Z",
     "start_time": "2024-10-12T07:22:14.782129Z"
    }
   },
   "source": "print(math.log2(1 / (1/6)))",
   "outputs": [
    {
     "name": "stdout",
     "output_type": "stream",
     "text": [
      "2.584962500721156\n"
     ]
    }
   ],
   "execution_count": 24
  },
  {
   "cell_type": "markdown",
   "metadata": {},
   "source": [
    "Expected result: ~2.584 bits\n",
    "\n",
    "---"
   ]
  },
  {
   "cell_type": "markdown",
   "metadata": {},
   "source": [
    "## Entropy\n",
    "\n",
    "A key concept from the field of information theory that is particularly useful in machine learning, is the concept of _entropy_, which provides the theoretical maxima for data compression.\n",
    "\n",
    "The entropy is simply the average number of bits needed to transmit any letter, accounting for its probability. So if all 26 letters of the alphabet are equally likely, the entropy is the same as the logarithm base 2.\n",
    "\n",
    "We can check this with the entropy function:"
   ]
  },
  {
   "cell_type": "code",
   "metadata": {
    "ExecuteTime": {
     "end_time": "2024-10-12T07:07:33.176421Z",
     "start_time": "2024-10-12T07:07:33.165845Z"
    }
   },
   "source": [
    "from scipy.stats import entropy\n",
    "p = [1/26]*26 # All letters have the same probability\n",
    "entropy(p, base=2)"
   ],
   "outputs": [
    {
     "data": {
      "text/plain": [
       "4.7004397181410935"
      ]
     },
     "execution_count": 5,
     "metadata": {},
     "output_type": "execute_result"
    }
   ],
   "execution_count": 5
  },
  {
   "cell_type": "markdown",
   "metadata": {},
   "source": [
    "However, if some letters are more likely than others, fewer bits are needed. Let's say that 'e' is twice more likely to appear. Its probability would then change from $\\frac{1}{26}$ to $\\frac{2}{26}$ while all other letters would now be proportionally less likely. We then expect the entropy to decrease slightly:"
   ]
  },
  {
   "cell_type": "code",
   "metadata": {
    "ExecuteTime": {
     "end_time": "2024-10-12T07:07:33.907550Z",
     "start_time": "2024-10-12T07:07:33.899100Z"
    }
   },
   "source": [
    "p_e = 2/26 # Probability of 'e'\n",
    "p_any = (1 - p_e) / 25 # Probability of other letters\n",
    "entropy([p_any]*25+[p_e], base=2)"
   ],
   "outputs": [
    {
     "data": {
      "text/plain": [
       "4.677880046498233"
      ]
     },
     "execution_count": 6,
     "metadata": {},
     "output_type": "execute_result"
    }
   ],
   "execution_count": 6
  },
  {
   "cell_type": "markdown",
   "metadata": {},
   "source": [
    "This is where the concept of entropy proves useful. Simply applying the logarithm, we can find how many bits are needed to represent a symbol in binary, even if that symbol is almost never used. But since entropy also accounts for the probability of that symbol, it gives a theoretical lower bound for any compression algorithm.\n",
    "\n",
    "Another interpretation of entropy is that it measures uncertainty. Intuitively, if we had 26 letters but we only ever used two of them, the entropy of this alphabet is very small as we are certain about 24 of the symbols and we only need to decide between the remaining two.\n",
    "\n",
    "Formally, the alphabet of English letters can be generalised as the sample space of a discrete random variable $X$, with a corresponding probability mass function $p(x)$:\n",
    "\n",
    "\\begin{align}\n",
    "  p(x) = P(X = x), x \\in X\n",
    "\\end{align}\n",
    "\n",
    "The entropy of the random variable $X$ is then defined as the average quantity of information $I$ required to transmit every symbol in the alphabet:\n",
    "\n",
    "\n",
    "\\begin{align}\n",
    "  H(p) = H(X) &= E[I] \\\\\n",
    "  &= \\sum_{x \\in X} p(x) I(x) \\\\\n",
    "  &= \\sum_{x \\in X} p(x) log_2\\frac{1}{p(x)} \\\\\n",
    "  &= - \\sum_{x \\in X} p(x) \\log_2p(x)\n",
    "\\end{align}\n",
    "\n",
    "\n",
    "where $p$ is the probability mass function of the random variable $X$ and $0\\log0$ is considered to be 0.\n",
    "\n",
    "We can implement this definition directly:"
   ]
  },
  {
   "cell_type": "code",
   "metadata": {
    "ExecuteTime": {
     "end_time": "2024-10-12T07:07:34.227517Z",
     "start_time": "2024-10-12T07:07:34.211332Z"
    }
   },
   "source": [
    "def H(p):\n",
    "    log_zero = lambda x: 0 if x == 0 else math.log2(x)\n",
    "    return -sum(i*log_zero(i) for i in p)"
   ],
   "outputs": [],
   "execution_count": 7
  },
  {
   "cell_type": "markdown",
   "metadata": {},
   "source": [
    "and test it against the library version:"
   ]
  },
  {
   "cell_type": "code",
   "metadata": {
    "ExecuteTime": {
     "end_time": "2024-10-12T07:07:34.593774Z",
     "start_time": "2024-10-12T07:07:34.577602Z"
    }
   },
   "source": [
    "p = [1/26] * 26 + [0]\n",
    "print(H(p))\n",
    "print(entropy(p, base=2))"
   ],
   "outputs": [
    {
     "name": "stdout",
     "output_type": "stream",
     "text": [
      "4.700439718141092\n",
      "4.7004397181410935\n"
     ]
    }
   ],
   "execution_count": 8
  },
  {
   "cell_type": "markdown",
   "metadata": {},
   "source": [
    "---\n",
    "**Give it a try!**\n",
    "\n",
    "What is the entropy of the morse code alphabet, if a 'dot' is twice as likely as a 'dash'?"
   ]
  },
  {
   "cell_type": "code",
   "metadata": {
    "ExecuteTime": {
     "end_time": "2024-10-12T07:41:36.059549Z",
     "start_time": "2024-10-12T07:41:36.046378Z"
    }
   },
   "source": [
    "p = [2/3, 1/3]\n",
    "print(entropy(p, base=2))\n",
    "print(H(p))"
   ],
   "outputs": [
    {
     "name": "stdout",
     "output_type": "stream",
     "text": [
      "0.9182958340544894\n",
      "0.9182958340544896\n"
     ]
    }
   ],
   "execution_count": 27
  },
  {
   "cell_type": "markdown",
   "metadata": {},
   "source": [
    "Expected result: ~0.918 bits\n",
    "\n",
    "---"
   ]
  },
  {
   "cell_type": "markdown",
   "metadata": {},
   "source": [
    "## Conditional Entropy\n",
    "\n",
    "If the entropy measures the uncertainty of a random variable $X$ (e.g. a letter of the alphabet), the _conditional entropy_ is the remaining uncertainty after we learn something more about the data which can be modeled as a second random variable $Y$ (e.g. the letters are not transmitted at random, they represent words in either Italian or English).\n",
    "\n",
    "If we know nothing about the language, we can assume any letter is equally likely in the message, therefore all probabilities are equal, and our entropy is "
   ]
  },
  {
   "cell_type": "code",
   "metadata": {
    "ExecuteTime": {
     "end_time": "2024-10-12T07:07:36.918182Z",
     "start_time": "2024-10-12T07:07:36.901115Z"
    }
   },
   "source": [
    "p = [1/26] * 26\n",
    "H(p)"
   ],
   "outputs": [
    {
     "data": {
      "text/plain": [
       "4.700439718141092"
      ]
     },
     "execution_count": 10,
     "metadata": {},
     "output_type": "execute_result"
    }
   ],
   "execution_count": 10
  },
  {
   "cell_type": "markdown",
   "metadata": {},
   "source": [
    "However if we know that the language is Italian, we could expect vowels to be more frequent:"
   ]
  },
  {
   "cell_type": "code",
   "metadata": {
    "ExecuteTime": {
     "end_time": "2024-10-12T07:07:37.515199Z",
     "start_time": "2024-10-12T07:07:37.492991Z"
    }
   },
   "source": [
    "p_vowel = 2/26\n",
    "p_rest = (1 - p_vowel*5) / 21\n",
    "p_italian = [p_vowel] * 5 + [p_rest] * 21\n",
    "H(p_italian)"
   ],
   "outputs": [
    {
     "data": {
      "text/plain": [
       "4.5572504398510985"
      ]
     },
     "execution_count": 11,
     "metadata": {},
     "output_type": "execute_result"
    }
   ],
   "execution_count": 11
  },
  {
   "cell_type": "markdown",
   "metadata": {},
   "source": [
    "And if we knew that the language is English, we could expect 't' and 'h' to be more frequent:"
   ]
  },
  {
   "cell_type": "code",
   "metadata": {
    "ExecuteTime": {
     "end_time": "2024-10-12T07:07:37.766165Z",
     "start_time": "2024-10-12T07:07:37.758864Z"
    }
   },
   "source": [
    "p_th = 3/26\n",
    "p_rest = (1 - p_th*2) / 24\n",
    "p_english= [p_th] * 2 + [p_rest] * 24\n",
    "H(p_english)"
   ],
   "outputs": [
    {
     "data": {
      "text/plain": [
       "4.537013299385282"
      ]
     },
     "execution_count": 12,
     "metadata": {},
     "output_type": "execute_result"
    }
   ],
   "execution_count": 12
  },
  {
   "cell_type": "markdown",
   "metadata": {},
   "source": [
    "Note that in both cases, the entropy is smaller. These are called _specific conditional entropies_, since they measure the entropy of symbols in a specific language.\n",
    "\n",
    "The conditional entropy answers the more general question: how many bits of information would be needed to encode a message, if we knew the language? Note that this is not the same as knowing _which_ language was used (either English or Italian), just that one of the languages was used.\n",
    "\n",
    "This can be simply calculated as the weighted average of the two entropies above, considering that the languages themselves have their own probabilities (i.e. the text is more likely to be in English than in Italian).\n",
    "\n",
    "For instance, if English is three times more likely, the conditional entropy would become:"
   ]
  },
  {
   "cell_type": "code",
   "metadata": {
    "ExecuteTime": {
     "end_time": "2024-10-12T07:07:38.099457Z",
     "start_time": "2024-10-12T07:07:38.089974Z"
    }
   },
   "source": [
    "H_p_given_language = H(p_italian) * 0.25 + H(p_english) * 0.75\n",
    "H_p_given_language"
   ],
   "outputs": [
    {
     "data": {
      "text/plain": [
       "4.542072584501736"
      ]
     },
     "execution_count": 13,
     "metadata": {},
     "output_type": "execute_result"
    }
   ],
   "execution_count": 13
  },
  {
   "cell_type": "markdown",
   "metadata": {},
   "source": [
    "We can conclude that knowing the language in which a message is transmitted, reduces the number of bits required for encoding.\n",
    "\n",
    "Using formal notation, we can model the letters of the alphabet as the random variable $X$ with all probabilities equal, and the language as the random variable $Y$. `H(p_italian)` and `H(p_english)`, formally written as $H(X | Y = italian)$ and $H(X | Y = english)$, are called _specific conditional entropies_ defined as:\n",
    "\n",
    "\\begin{align}\n",
    "H(X | Y = y) = - \\sum_{x \\in X}p(x | y) \\log_2 p(x|y)\n",
    "  \\end{align}\n",
    "\n",
    "The conditional entropy of $X$ given $Y$ is then defined as:\n",
    "\n",
    "\\begin{align}\n",
    "H(X|Y) = \\sum_{y \\in Y} p(y)H(X|Y=y)       \n",
    "\\end{align}"
   ]
  },
  {
   "cell_type": "markdown",
   "metadata": {},
   "source": [
    "---\n",
    "**Give it a try!**\n",
    "\n",
    "Given a random variable $X$ corresponding to the current season (spring, summer, autumn or winter), and variable $Y$ corresponding to the temperature (low or high). Knowing that:\n",
    "* when the temperature is low, it is twice as likely to be winter than summer,\n",
    "* when the temperature is high, it is twice as likely to be summer than winter\n",
    "\n",
    "calculate:\n",
    "\n",
    "1. the entropy of $X$, $H(X)$;\n",
    "1. the entropy of $X$ knowing that the temperature is low, $H(X|Y=low)$ and similar for 'high';\n",
    "1. the conditional entropy of $X$ given $Y$, $H(X|Y)$."
   ]
  },
  {
   "cell_type": "code",
   "metadata": {
    "ExecuteTime": {
     "end_time": "2024-10-12T08:23:52.208822Z",
     "start_time": "2024-10-12T08:23:52.186760Z"
    }
   },
   "source": [
    "#P(season = winter | temp = low) = 2 * P(season = summer | temp=low))\n",
    "\n",
    "x = [1/4, 1/4, 1/4, 1/4]\n",
    "print(x)\n",
    "print(entropy(x, base=2))\n",
    "\n",
    "\n",
    "p_winter_know_low = 4/6\n",
    "p_summer = 2/6\n",
    "p_rest_know_low = 1/4\n",
    "\n",
    "x_know_y = [1/4, 1/4, 1/6, 2/6]\n",
    "\n",
    "\n",
    "print( entropy(x_know_y, base=2))\n",
    "\n"
   ],
   "outputs": [
    {
     "name": "stdout",
     "output_type": "stream",
     "text": [
      "[0.25, 0.25, 0.25, 0.25]\n",
      "2.0\n",
      "1.959147917027245\n"
     ]
    }
   ],
   "execution_count": 57
  },
  {
   "cell_type": "markdown",
   "metadata": {},
   "source": [
    "Expected result: \n",
    "\n",
    "1. 2 bits\n",
    "1. ~1.959 bits\n",
    "1. ~1.959 bits\n",
    "\n",
    "---"
   ]
  },
  {
   "cell_type": "markdown",
   "metadata": {},
   "source": [
    "## Information gain\n",
    "\n",
    "The _information gain_ (also called _mutual information_) is the amount of information gained about a variable by knowing the outcome of another variable. In our example, the information gained by knowing the language is the difference between the entropy of the alphabet and the entropy of the alphabet when the language is known (i.e. the conditional entropy of the alphabet given the language):"
   ]
  },
  {
   "cell_type": "code",
   "metadata": {
    "ExecuteTime": {
     "end_time": "2024-10-12T07:11:55.690954Z",
     "start_time": "2024-10-12T07:11:55.670415Z"
    }
   },
   "source": [
    "IG = H(p) - H_p_given_language\n",
    "IG"
   ],
   "outputs": [
    {
     "data": {
      "text/plain": [
       "0.15836713363935573"
      ]
     },
     "execution_count": 20,
     "metadata": {},
     "output_type": "execute_result"
    }
   ],
   "execution_count": 20
  },
  {
   "cell_type": "markdown",
   "metadata": {},
   "source": [
    "This is written formally as:\n",
    "\n",
    "\\begin{align}\n",
    "IG(X;Y) = H(X) - H(X|Y)\n",
    "\\end{align}\n",
    "\n",
    "The alternative name _mutual information_ suggests an interesting property that can be easily derived from the definitions above: symmetry regarding order of variables. In other words, the information gained about the alphabet by knowing the language is the same as the information gained on the language by knowing the alphabet: $IG(X;Y) = IG(Y;X)$."
   ]
  },
  {
   "cell_type": "markdown",
   "metadata": {},
   "source": [
    "# Decision Trees\n",
    "\n",
    "Decision trees are the models behind some of the most common regression and classification algorithms. The nodes of the tree represent features, and the branches represent splits by different values of those features. They have two primary uses:\n",
    "\n",
    "* when the target is known: to understand the relationship between the predictors and the target;\n",
    "* when the target is not known: to predict the target.\n",
    "\n",
    "As a simple example, we can consider a dataset with descriptions of various mushrooms and whether or not they are edible:"
   ]
  },
  {
   "cell_type": "code",
   "metadata": {
    "ExecuteTime": {
     "end_time": "2024-10-12T07:11:58.057750Z",
     "start_time": "2024-10-12T07:11:57.141816Z"
    }
   },
   "source": [
    "import pandas as pd\n",
    "features = ['Weight', 'Smell', 'Spots', 'Smooth', 'Edible']\n",
    "mushrooms = pd.DataFrame([\n",
    "  (1, 0, 0, 0, 1),\n",
    "  (1, 0, 1, 0, 1),\n",
    "  (0, 1, 0, 1, 1),\n",
    "  (0, 0, 0, 1, 0),\n",
    "  (1, 1, 1, 0, 0),\n",
    "  (1, 0, 1, 1, 0),\n",
    "  (1, 0, 0, 1, 0),\n",
    "  (0, 1, 0, 0, 0)\n",
    "],\n",
    "index=['A', 'B', 'C', 'D', 'E', 'F', 'G', 'H'],\n",
    "columns=features)\n",
    "print(mushrooms)"
   ],
   "outputs": [
    {
     "name": "stdout",
     "output_type": "stream",
     "text": [
      "   Weight  Smell  Spots  Smooth  Edible\n",
      "A       1      0      0       0       1\n",
      "B       1      0      1       0       1\n",
      "C       0      1      0       1       1\n",
      "D       0      0      0       1       0\n",
      "E       1      1      1       0       0\n",
      "F       1      0      1       1       0\n",
      "G       1      0      0       1       0\n",
      "H       0      1      0       0       0\n"
     ]
    }
   ],
   "execution_count": 21
  },
  {
   "cell_type": "markdown",
   "metadata": {},
   "source": [
    "Using the `DecisionTreeClassifier` from `sklearn`, we can learn a decision tree with:"
   ]
  },
  {
   "cell_type": "code",
   "metadata": {
    "ExecuteTime": {
     "end_time": "2024-10-12T07:11:59.735818Z",
     "start_time": "2024-10-12T07:11:59.715543Z"
    }
   },
   "source": [
    "from sklearn import tree\n",
    "X = mushrooms[['Weight', 'Smell', 'Spots', 'Smooth']]\n",
    "y = mushrooms['Edible']\n",
    "dt = tree.DecisionTreeClassifier(criterion='entropy').fit(X,y)"
   ],
   "outputs": [],
   "execution_count": 22
  },
  {
   "cell_type": "markdown",
   "metadata": {},
   "source": [
    "And with `matplotlib` we can visualise it:"
   ]
  },
  {
   "cell_type": "code",
   "metadata": {
    "ExecuteTime": {
     "end_time": "2024-10-12T07:12:02.125961Z",
     "start_time": "2024-10-12T07:12:01.128882Z"
    }
   },
   "source": [
    "import matplotlib.pyplot as plt\n",
    "fig, ax = plt.subplots(figsize=(7, 8))\n",
    "f = tree.plot_tree(dt, ax=ax, fontsize=10, feature_names=features)\n",
    "plt.show()"
   ],
   "outputs": [
    {
     "data": {
      "text/plain": [
       "<Figure size 700x800 with 1 Axes>"
      ],
      "image/png": "[encoded data removed]"
     },
     "metadata": {},
     "output_type": "display_data"
    }
   ],
   "execution_count": 23
  },
  {
   "cell_type": "markdown",
   "metadata": {},
   "source": [
    "At each step, information gain is used to decide which variable best separates the edible mushrooms from the poisonous ones."
   ]
  },
  {
   "cell_type": "markdown",
   "metadata": {},
   "source": [
    "The tree can be simply read like a sequence of 'if' statements. Following the branches in the tree above, from top to bottom we have:\n",
    "\n",
    "* \"if Smooth is 0 and Smell is 0, all mushrooms are edible\";\n",
    "* \"if Smooth is 0 and Smell is 1, all mushrooms are poisonous\";\n",
    "* \"if Smooth is 1 and Smell is 0, all mushrooms are poisonous\";\n",
    "* \"if Smooth is 1 and Smell is 1, all mushrooms are edible\";\n",
    "\n",
    "Interestingly, the algorithm that learned this decision tree ignored the _Weight_ and _Spots_ features. As it turned out, based on the available data, they are not needed to decide whether the mushroom is poisonous or not."
   ]
  },
  {
   "cell_type": "markdown",
   "metadata": {},
   "source": [
    "The distinction between correlation and causality is important here. Just because we can distinguish between edible and poisonous mushrooms using two properties, it does not mean that those properties _make_ it poisonous. It could just be a coincidence or some unknown cause could be behind both effects. A domain expert (in this case, a biologist) would ideally help interpret the findings of the machine learning algorithm.\n",
    "\n",
    "Different algorithms can create different decision trees from the same data. There are generally two criteria for choosing one solution over another:\n",
    "\n",
    "* model performance, or how well it can predict new data;\n",
    "* model size, or how many splits are being used throughout the model.\n",
    "\n",
    "Most algorithms will focus on performance but will have a parameter that will allow adjusting model size, sometimes at the cost of some of that performance."
   ]
  },
  {
   "cell_type": "markdown",
   "metadata": {},
   "source": [
    "---\n",
    "**Give it a try!**\n",
    "\n",
    "1. Calculate the entropy of Edible for the root node, $H(Edible)$.\n",
    "1. Calculate the information gain brought by the variable Smooth, $IG(Edible;Smooth)$."
   ]
  },
  {
   "cell_type": "code",
   "execution_count": 17,
   "metadata": {},
   "outputs": [],
   "source": [
    "# Your code here"
   ]
  },
  {
   "cell_type": "markdown",
   "metadata": {},
   "source": [
    "Expected results: \n",
    "\n",
    "```\n",
    "H(Edible) ~= 0.954\n",
    "IG(Edible; Smooth) ~= 0.048\n",
    "```\n",
    "---"
   ]
  }
 ],
 "metadata": {
  "kernelspec": {
   "display_name": "Python 3 (ipykernel)",
   "language": "python",
   "name": "python3"
  },
  "language_info": {
   "codemirror_mode": {
    "name": "ipython",
    "version": 3
   },
   "file_extension": ".py",
   "mimetype": "text/x-python",
   "name": "python",
   "nbconvert_exporter": "python",
   "pygments_lexer": "ipython3",
   "version": "3.12.3"
  }
 },
 "nbformat": 4,
 "nbformat_minor": 4
}
