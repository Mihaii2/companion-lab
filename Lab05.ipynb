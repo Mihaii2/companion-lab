{
 "cells": [
  {
   "cell_type": "markdown",
   "id": "0de207cb-ff2c-498a-9e5b-f649ee51ee40",
   "metadata": {},
   "source": [
    "# Naive Bayes\n",
    "\n",
    "Here is a step by step explanation of the algorithm: https://youtu.be/O2L2Uv9pdDA\n",
    "\n",
    "Bayesian classifiers and in particular the naive Bayes classifier are a family of probabilistic classification algorithms particularly suited to problems like text classification.\n",
    "\n",
    "When to use it:\n",
    "\n",
    "* The target function $f$ takes value from a finite set $V=\\{v_1,...,v_k\\}$\n",
    "* Moderate or large training data set is available\n",
    "* The attributes $<a_1,...,a_n>$ that describes instances are conditionally independent with respect to the given classification:\n",
    "\n",
    "$$P(a_1,a_2,...,a_n|v_j)=\\prod_i P(a_i|v_j)$$\n",
    "\n",
    "The most probable value of $f(x)$ is:\n",
    "\n",
    "\\begin{align}\n",
    "v_{MAP} &= \\mbox{argmax}_{v_j \\in V}P(v_j|a_1,a_2,...,a_n) \\\\\n",
    "      &= \\mbox{argmax}_{v_j \\in V}\\frac{P(a_1,a_2,...,a_n|v_j)P(v_j)}{P(a_1,a_2,...,a_n)}\\\\\n",
    "      &= \\mbox{argmax}_{v_j \\in V} P(a_1,a_2,...,a_n|v_j)P(v_j)\\\\\n",
    "      &= \\mbox{argmax}_{v_j \\in V} \\prod_i P(a_i|v_j)P(v_j)\n",
    "\\end{align}\n",
    "\n",
    "where MAP stands for [_maximum a posteriori probability_](https://en.wikipedia.org/wiki/Maximum_a_posteriori_estimation).\n",
    "\n",
    "As an example, let's consider a simplified dataset of only 12 messages, 8 of which are spam. For each message, only consider the words \"study\", \"free\" and \"money\":"
   ]
  },
  {
   "cell_type": "code",
   "execution_count": 14,
   "id": "167d846e-9dc3-4db9-a485-7417639ba786",
   "metadata": {},
   "outputs": [
    {
     "data": {
      "text/html": [
       "<div>\n",
       "<style scoped>\n",
       "    .dataframe tbody tr th:only-of-type {\n",
       "        vertical-align: middle;\n",
       "    }\n",
       "\n",
       "    .dataframe tbody tr th {\n",
       "        vertical-align: top;\n",
       "    }\n",
       "\n",
       "    .dataframe thead th {\n",
       "        text-align: right;\n",
       "    }\n",
       "</style>\n",
       "<table border=\"1\" class=\"dataframe\">\n",
       "  <thead>\n",
       "    <tr style=\"text-align: right;\">\n",
       "      <th></th>\n",
       "      <th>study</th>\n",
       "      <th>free</th>\n",
       "      <th>money</th>\n",
       "      <th>is_spam</th>\n",
       "    </tr>\n",
       "  </thead>\n",
       "  <tbody>\n",
       "    <tr>\n",
       "      <th>0</th>\n",
       "      <td>1</td>\n",
       "      <td>0</td>\n",
       "      <td>0</td>\n",
       "      <td>0</td>\n",
       "    </tr>\n",
       "    <tr>\n",
       "      <th>1</th>\n",
       "      <td>0</td>\n",
       "      <td>0</td>\n",
       "      <td>1</td>\n",
       "      <td>0</td>\n",
       "    </tr>\n",
       "    <tr>\n",
       "      <th>2</th>\n",
       "      <td>1</td>\n",
       "      <td>0</td>\n",
       "      <td>0</td>\n",
       "      <td>0</td>\n",
       "    </tr>\n",
       "    <tr>\n",
       "      <th>3</th>\n",
       "      <td>1</td>\n",
       "      <td>1</td>\n",
       "      <td>0</td>\n",
       "      <td>0</td>\n",
       "    </tr>\n",
       "    <tr>\n",
       "      <th>4</th>\n",
       "      <td>0</td>\n",
       "      <td>1</td>\n",
       "      <td>0</td>\n",
       "      <td>1</td>\n",
       "    </tr>\n",
       "    <tr>\n",
       "      <th>5</th>\n",
       "      <td>0</td>\n",
       "      <td>1</td>\n",
       "      <td>0</td>\n",
       "      <td>1</td>\n",
       "    </tr>\n",
       "    <tr>\n",
       "      <th>6</th>\n",
       "      <td>0</td>\n",
       "      <td>1</td>\n",
       "      <td>0</td>\n",
       "      <td>1</td>\n",
       "    </tr>\n",
       "    <tr>\n",
       "      <th>7</th>\n",
       "      <td>0</td>\n",
       "      <td>1</td>\n",
       "      <td>0</td>\n",
       "      <td>1</td>\n",
       "    </tr>\n",
       "    <tr>\n",
       "      <th>8</th>\n",
       "      <td>0</td>\n",
       "      <td>1</td>\n",
       "      <td>1</td>\n",
       "      <td>1</td>\n",
       "    </tr>\n",
       "    <tr>\n",
       "      <th>9</th>\n",
       "      <td>0</td>\n",
       "      <td>1</td>\n",
       "      <td>1</td>\n",
       "      <td>1</td>\n",
       "    </tr>\n",
       "    <tr>\n",
       "      <th>10</th>\n",
       "      <td>0</td>\n",
       "      <td>1</td>\n",
       "      <td>1</td>\n",
       "      <td>1</td>\n",
       "    </tr>\n",
       "    <tr>\n",
       "      <th>11</th>\n",
       "      <td>0</td>\n",
       "      <td>1</td>\n",
       "      <td>1</td>\n",
       "      <td>1</td>\n",
       "    </tr>\n",
       "  </tbody>\n",
       "</table>\n",
       "</div>"
      ],
      "text/plain": [
       "    study  free  money  is_spam\n",
       "0       1     0      0        0\n",
       "1       0     0      1        0\n",
       "2       1     0      0        0\n",
       "3       1     1      0        0\n",
       "4       0     1      0        1\n",
       "5       0     1      0        1\n",
       "6       0     1      0        1\n",
       "7       0     1      0        1\n",
       "8       0     1      1        1\n",
       "9       0     1      1        1\n",
       "10      0     1      1        1\n",
       "11      0     1      1        1"
      ]
     },
     "execution_count": 14,
     "metadata": {},
     "output_type": "execute_result"
    }
   ],
   "source": [
    "import pandas as pd\n",
    "features = ['study', 'free', 'money']\n",
    "target = 'is_spam'\n",
    "messages = pd.DataFrame(\n",
    "  [(1, 0, 0, 0),\n",
    "  (0, 0, 1, 0),\n",
    "  (1, 0, 0, 0),\n",
    "  (1, 1, 0, 0)] +\n",
    "  [(0, 1, 0, 1)] * 4 +\n",
    "  [(0, 1, 1, 1)] * 4,\n",
    "columns=features+[target])\n",
    "messages"
   ]
  },
  {
   "cell_type": "markdown",
   "id": "6ac9f768-9995-46ac-97fa-7ff8a203fe18",
   "metadata": {},
   "source": [
    "Given this labelled dataset, a common requirement is to classify a new message, for which the label is unknown. For example, the message \"money for psychology study\", can be encoded as:"
   ]
  },
  {
   "cell_type": "code",
   "execution_count": 15,
   "id": "40095ef3-b498-4cda-ac71-02ff1d8309c1",
   "metadata": {},
   "outputs": [
    {
     "data": {
      "text/html": [
       "<div>\n",
       "<style scoped>\n",
       "    .dataframe tbody tr th:only-of-type {\n",
       "        vertical-align: middle;\n",
       "    }\n",
       "\n",
       "    .dataframe tbody tr th {\n",
       "        vertical-align: top;\n",
       "    }\n",
       "\n",
       "    .dataframe thead th {\n",
       "        text-align: right;\n",
       "    }\n",
       "</style>\n",
       "<table border=\"1\" class=\"dataframe\">\n",
       "  <thead>\n",
       "    <tr style=\"text-align: right;\">\n",
       "      <th></th>\n",
       "      <th>study</th>\n",
       "      <th>free</th>\n",
       "      <th>money</th>\n",
       "    </tr>\n",
       "  </thead>\n",
       "  <tbody>\n",
       "    <tr>\n",
       "      <th>0</th>\n",
       "      <td>1</td>\n",
       "      <td>0</td>\n",
       "      <td>1</td>\n",
       "    </tr>\n",
       "  </tbody>\n",
       "</table>\n",
       "</div>"
      ],
      "text/plain": [
       "   study  free  money\n",
       "0      1     0      1"
      ]
     },
     "execution_count": 15,
     "metadata": {},
     "output_type": "execute_result"
    }
   ],
   "source": [
    "new_messages = pd.DataFrame(\n",
    "  [(1, 0, 1)],\n",
    "columns = features)\n",
    "new_messages"
   ]
  },
  {
   "cell_type": "markdown",
   "id": "39069082-c9c6-4616-8010-e8ab0472b430",
   "metadata": {},
   "source": [
    "Using the [`BernoulliNB`](https://scikit-learn.org/stable/modules/generated/sklearn.naive_bayes.BernoulliNB.html) learner from `sklearn`, we can train a regular Naive Bayes classifier with:"
   ]
  },
  {
   "cell_type": "code",
   "execution_count": 16,
   "id": "414e66f3-266c-454f-9816-e6f58e7ce6eb",
   "metadata": {},
   "outputs": [],
   "source": [
    "from sklearn.naive_bayes import BernoulliNB\n",
    "X = messages[features]\n",
    "y = messages[target]\n",
    "cl = BernoulliNB().fit(X, y)"
   ]
  },
  {
   "cell_type": "markdown",
   "id": "535272ac-bd0a-47ba-a4e4-fd1dc61534f9",
   "metadata": {},
   "source": [
    "and then predict the class of the new message with:"
   ]
  },
  {
   "cell_type": "code",
   "execution_count": 17,
   "id": "f573c707-9cc6-477e-bd03-e793f7970c12",
   "metadata": {},
   "outputs": [
    {
     "data": {
      "text/plain": [
       "array([0])"
      ]
     },
     "execution_count": 17,
     "metadata": {},
     "output_type": "execute_result"
    }
   ],
   "source": [
    "cl.predict(new_messages)"
   ]
  },
  {
   "cell_type": "markdown",
   "id": "0f9816ca-bafb-4783-8f30-2e6c13910339",
   "metadata": {},
   "source": [
    "The prediction is 0, so this message is not considered to be spam.\n",
    "\n",
    "In order to see the probabilities of each class, not just the most probable class, we can do:"
   ]
  },
  {
   "cell_type": "code",
   "execution_count": 18,
   "id": "f62ed56b-8b13-49eb-89ad-d84d6f1ddcda",
   "metadata": {},
   "outputs": [
    {
     "data": {
      "text/plain": [
       "array([[0.93676815, 0.06323185]])"
      ]
     },
     "execution_count": 18,
     "metadata": {},
     "output_type": "execute_result"
    }
   ],
   "source": [
    "cl.predict_proba(new_messages)"
   ]
  },
  {
   "cell_type": "markdown",
   "id": "913e30a6-3b89-473a-8870-15c80dfce98e",
   "metadata": {},
   "source": [
    "To see the classes corresponding to these probabilieis, we can look at the `classes_` attribute:"
   ]
  },
  {
   "cell_type": "code",
   "execution_count": 19,
   "id": "253b4ada-f66d-47dc-9ab2-90970732453c",
   "metadata": {},
   "outputs": [
    {
     "data": {
      "text/plain": [
       "array([0, 1])"
      ]
     },
     "execution_count": 19,
     "metadata": {},
     "output_type": "execute_result"
    }
   ],
   "source": [
    "cl.classes_"
   ]
  },
  {
   "cell_type": "markdown",
   "id": "88fa8e99-511c-4f81-82aa-b5b90092b158",
   "metadata": {},
   "source": [
    "which means the first probability is for class '0', while the second probability is for class '1'."
   ]
  },
  {
   "cell_type": "markdown",
   "id": "b2de02a2-c4ef-4f40-aae1-df216bc47cb0",
   "metadata": {},
   "source": [
    "Some of the most useful attributes provided by this learner are:\n",
    "\n",
    "* `classes_` Class labels known to the classifier;\n",
    "* `class_count_` Number of samples encountered for each class during fitting;\n",
    "* `class_log_prior_` Natural logarithm of the probability of each class (smoothed);\n",
    "* `feature_count_` Number of samples encountered for each (class, feature) during fitting;\n",
    "* `feature_log_prob_` Empirical log probability of features given a class, $P(a_i|v_j)$."
   ]
  },
  {
   "cell_type": "markdown",
   "id": "c2da7df2-a186-4156-a41b-e4c61ee85f31",
   "metadata": {},
   "source": [
    "---\n",
    "**Give it a try!**\n",
    "\n",
    "The datasets `X_art` and `y_art` below describe 6 news articles. `X_art` holds the frequency of words while `y_art` holds the topic of the article. `X_new_art` is meant to represent a new article, for which we don't know the topic. What is the probability that this article is about weather?"
   ]
  },
  {
   "cell_type": "code",
   "execution_count": 20,
   "id": "463d5f94-09cf-448d-8cc4-7a2a3cc107ef",
   "metadata": {},
   "outputs": [],
   "source": [
    "import pandas as pd\n",
    "import numpy as np\n",
    "rng = np.random.RandomState(1)\n",
    "cols = [f'word_{i}' for i in range(100)]\n",
    "\n",
    "X_art = pd.DataFrame(rng.randint(5, size=(6, 100)), columns=cols)\n",
    "y_art = pd.Series(np.array(['politics', 'economy', 'weather', 'sports', 'sports', 'culture']))\n",
    "X_new_art = pd.DataFrame(X_art[2:3])\n",
    "\n",
    "# Your code here"
   ]
  },
  {
   "cell_type": "markdown",
   "id": "1b9c4e41-17bf-4073-9e7e-f475037be204",
   "metadata": {},
   "source": [
    "Expected result: 0.99999998.\n",
    "\n",
    "---"
   ]
  },
  {
   "cell_type": "markdown",
   "id": "a301cdcb-619e-4e55-beea-3a3e577642cf",
   "metadata": {},
   "source": [
    "## Prior probabilities"
   ]
  },
  {
   "cell_type": "markdown",
   "id": "b2b734f2-b36e-4e36-a709-419dbba3b874",
   "metadata": {},
   "source": [
    "By default, the probabilities of the two classes (spam and non-spam) are determined from the dataset. In the results above, the prior probability of 'spam' is considered to be $8/12$, so approximately 0.67. If, however, we want to tweak the prediction to be more conservative and label less messages as spam, then we can directly specify the probability of spam to a lower value such as 0.1:"
   ]
  },
  {
   "cell_type": "code",
   "execution_count": 21,
   "id": "4563b8b7-02e3-4dd0-a5e0-2ff149f044b6",
   "metadata": {},
   "outputs": [
    {
     "data": {
      "text/plain": [
       "array([[0.99626401, 0.00373599]])"
      ]
     },
     "execution_count": 21,
     "metadata": {},
     "output_type": "execute_result"
    }
   ],
   "source": [
    "cl = BernoulliNB(class_prior=[0.9,0.1]).fit(X, y)\n",
    "cl.predict_proba(new_messages)"
   ]
  },
  {
   "cell_type": "markdown",
   "id": "fae83845-f220-4496-ae78-69b98490deed",
   "metadata": {},
   "source": [
    "As expected, the computed probability that the message is spam has decreased, from around 0.06 to 0.0037."
   ]
  }
 ],
 "metadata": {
  "kernelspec": {
   "display_name": "Python 3 (ipykernel)",
   "language": "python",
   "name": "python3"
  },
  "language_info": {
   "codemirror_mode": {
    "name": "ipython",
    "version": 3
   },
   "file_extension": ".py",
   "mimetype": "text/x-python",
   "name": "python",
   "nbconvert_exporter": "python",
   "pygments_lexer": "ipython3",
   "version": "3.12.3"
  }
 },
 "nbformat": 4,
 "nbformat_minor": 5
}
