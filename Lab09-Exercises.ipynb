{
 "cells": [
  {
   "cell_type": "markdown",
   "id": "c6b704f5-a47c-4124-8be4-a27e13ca3503",
   "metadata": {},
   "source": [
    "# Logistic Regression\n",
    "\n",
    "## Exercise 1\n",
    "\n",
    "For the dataset below:\n",
    "\n",
    "1. Plot the decision surface of the Logistic Regression algorithm.\n",
    "2. Calculate the CVLOO error for Logistic Regression.\n",
    "3. Plot the decision surface of the ID3 algorithm (with entropy and no pruning).\n",
    "4. Calculate the CVLOO error for ID3."
   ]
  },
  {
   "cell_type": "code",
   "execution_count": 1,
   "id": "d0a7eabd-0aa1-4809-b58d-00de769ca895",
   "metadata": {},
   "outputs": [],
   "source": [
    "from sklearn.datasets import make_moons\n",
    "\n",
    "X, y = make_moons(n_samples=200, noise=0.2, random_state=42)"
   ]
  },
  {
   "cell_type": "markdown",
   "id": "415d3052-6ae3-47c3-aa6e-8b7fec9a901c",
   "metadata": {},
   "source": [
    "## Exercise 2\n",
    "\n",
    "Given the dataset below, implement the gradient ascent formula from the lab. Starting from an initial $w=(0, 0, 0)$, apply 10 gradient ascent steps with $\\eta = 0.01$. What are the values of $w$ after the 10 steps? \n",
    "\n",
    "_Note: The component $x_0 = 1$ was already added to the dataset, so $w$ and $X$ have the same number of dimensions._"
   ]
  },
  {
   "cell_type": "code",
   "execution_count": 2,
   "id": "20b07227-d6a6-4c6c-8253-1ea8ded7b496",
   "metadata": {},
   "outputs": [],
   "source": [
    "from sklearn.datasets import make_blobs\n",
    "import numpy as np\n",
    "\n",
    "X, y = make_blobs(n_samples=200, cluster_std=3, centers=2, random_state=42)\n",
    "\n",
    "def add_intercept(X):\n",
    "    \"\"\"Add 1 as the first column of X\"\"\"\n",
    "    return np.hstack((np.ones((len(X), 1)), X))\n",
    "\n",
    "X = add_intercept(X)"
   ]
  }
 ],
 "metadata": {
  "kernelspec": {
   "display_name": "Python 3 (ipykernel)",
   "language": "python",
   "name": "python3"
  },
  "language_info": {
   "codemirror_mode": {
    "name": "ipython",
    "version": 3
   },
   "file_extension": ".py",
   "mimetype": "text/x-python",
   "name": "python",
   "nbconvert_exporter": "python",
   "pygments_lexer": "ipython3",
   "version": "3.12.3"
  }
 },
 "nbformat": 4,
 "nbformat_minor": 5
}
