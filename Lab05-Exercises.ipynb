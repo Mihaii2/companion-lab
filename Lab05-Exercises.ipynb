{
 "cells": [
  {
   "cell_type": "markdown",
   "id": "a90491ec-1f9f-479a-95b9-fd697241ae99",
   "metadata": {},
   "source": [
    "# Naive Bayes"
   ]
  },
  {
   "cell_type": "markdown",
   "id": "5c43b866-e21d-4112-bb13-d7212ccefc62",
   "metadata": {},
   "source": [
    "## Exercise 1\n",
    "\n",
    "Given the following dataset, with input attributes $A$, $B$, and $C$ and target attribute $Y$, predict the entry $A=0, B=0, C=1$ using `BernoulliNB(alpha=1e-10)` and `predict_proba()` then manually calculate the probabilities using the formulas."
   ]
  },
  {
   "cell_type": "code",
   "execution_count": 3,
   "id": "d44a550d-e8a9-4df8-9c74-6fdaa470e9f6",
   "metadata": {},
   "outputs": [],
   "source": [
    "import pandas as pd\n",
    "d = pd.DataFrame({'A': [0, 0, 1, 0, 1, 1, 1],\n",
    "                  'B': [0, 1, 1, 0, 1, 0, 1],\n",
    "                  'C': [1, 0, 0, 1, 1, 0, 0],\n",
    "                  'Y': [0, 0, 0, 1, 1, 1, 1]})"
   ]
  },
  {
   "cell_type": "markdown",
   "id": "3f18f1dd-f66d-45c9-abb9-5f80a4c95ddf",
   "metadata": {},
   "source": [
    "## Exercise 2\n",
    "\n",
    "Consider two random variables $X_1$ and $X_2$ and a label $Y$ assigned to each instance as in the dataset `d` created below.\n",
    "\n",
    "1. Classify the instance $X_1=0,X_2=0$ using Naive Bayes.\n",
    "\n",
    "1. According to Naive Bayes, what is the probability of this classification?\n",
    "\n",
    "1. How many probabilities are estimated by the model (check the `class_log_prior_` and `feature_log_prob_` attributes)?\n",
    "\n",
    "1. How many probabilities would be estimated by the model if there were $n$ features instead of 2?"
   ]
  },
  {
   "cell_type": "code",
   "execution_count": 4,
   "id": "282a321a-de22-41ec-85c7-12833b244a65",
   "metadata": {},
   "outputs": [],
   "source": [
    "import pandas as pd\n",
    "from tools.pd_helpers import apply_counts\n",
    "\n",
    "d_grouped = pd.DataFrame({\n",
    "    'X1': [0, 0, 1, 1, 0, 0, 1, 1],\n",
    "    'X2': [0, 0, 0, 0, 1, 1, 1, 1],\n",
    "    'C' : [2, 18, 4, 1, 4, 1, 2, 18],\n",
    "    'Y' : [0, 1, 0, 1, 0, 1, 0, 1]})\n",
    "d = apply_counts(d_grouped, 'C')"
   ]
  }
 ],
 "metadata": {
  "kernelspec": {
   "display_name": "Python 3 (ipykernel)",
   "language": "python",
   "name": "python3"
  },
  "language_info": {
   "codemirror_mode": {
    "name": "ipython",
    "version": 3
   },
   "file_extension": ".py",
   "mimetype": "text/x-python",
   "name": "python",
   "nbconvert_exporter": "python",
   "pygments_lexer": "ipython3",
   "version": "3.12.3"
  }
 },
 "nbformat": 4,
 "nbformat_minor": 5
}
