{
 "cells": [
  {
   "cell_type": "markdown",
   "id": "a90491ec-1f9f-479a-95b9-fd697241ae99",
   "metadata": {},
   "source": [
    "# Naive Bayes"
   ]
  },
  {
   "cell_type": "markdown",
   "id": "5c43b866-e21d-4112-bb13-d7212ccefc62",
   "metadata": {},
   "source": [
    "## Exercise 1\n",
    "\n",
    "Given the following dataset, with input attributes $A$, $B$, and $C$ and target attribute $Y$, predict the entry $A=0, B=0, C=1$ using `BernoulliNB(alpha=1e-10)` and `predict_proba()` then manually calculate the probabilities using the formulas."
   ]
  },
  {
   "cell_type": "code",
   "id": "d44a550d-e8a9-4df8-9c74-6fdaa470e9f6",
   "metadata": {
    "ExecuteTime": {
     "end_time": "2024-11-02T19:54:05.901775Z",
     "start_time": "2024-11-02T19:54:02.571013Z"
    }
   },
   "source": [
    "from sklearn.naive_bayes import BernoulliNB\n",
    "import pandas as pd\n",
    "d = pd.DataFrame({'A': [0, 0, 1, 0, 1, 1, 1],\n",
    "                  'B': [0, 1, 1, 0, 1, 0, 1],\n",
    "                  'C': [1, 0, 0, 1, 1, 0, 0],\n",
    "                  'Y': [0, 0, 0, 1, 1, 1, 1]})\n",
    "X = d[['A', 'B', 'C']]\n",
    "Y = d['Y']\n",
    "X_predict = pd.DataFrame({'A': [0], 'B': [0], 'C': [1]})\n",
    "\n",
    "cl = BernoulliNB(alpha=1e-10).fit(X, Y)\n",
    "print(cl.predict(X_predict))\n",
    "print(cl.predict_proba(X_predict))\n",
    "print(cl.classes_)\n",
    "\n",
    "print(\"\"\"\n",
    "For Y=0:\n",
    "P(Y=0) * P(A=0|Y=0) * P(B=0|Y=0) * P(C=1|Y=0)\n",
    "= (3/7) * (2/3) * (1/3) * (1/3) = 0.03174\n",
    "For Y=1:\n",
    "P(Y=1) * P(A=0|Y=1) * P(B=0|Y=1) * P(C=1|Y=1)\n",
    "= (4/7) * (1/4) * (2/4) * (2/4) = 0.03571\n",
    "\n",
    "Normalize these probabilities:\n",
    "Total = 0.0952 + 0.0714 = 0.06745\n",
    "\n",
    "P(Y=0|A=0,B=0,C=1) = 0.0952/0.1666 = 0.4705\n",
    "P(Y=1|A=0,B=0,C=1) = 0.0714/0.1666 = 0.5293\n",
    "\"\"\")"
   ],
   "outputs": [
    {
     "name": "stdout",
     "output_type": "stream",
     "text": [
      "[1]\n",
      "[[0.47058824 0.52941176]]\n",
      "[0 1]\n",
      "\n",
      "For Y=0:\n",
      "P(Y=0) * P(A=0|Y=0) * P(B=0|Y=0) * P(C=1|Y=0)\n",
      "= (3/7) * (2/3) * (1/3) * (1/3) = 0.03174\n",
      "For Y=1:\n",
      "P(Y=1) * P(A=0|Y=1) * P(B=0|Y=1) * P(C=1|Y=1)\n",
      "= (4/7) * (1/4) * (2/4) * (2/4) = 0.03571\n",
      "\n",
      "Normalize these probabilities:\n",
      "Total = 0.0952 + 0.0714 = 0.06745\n",
      "\n",
      "P(Y=0|A=0,B=0,C=1) = 0.0952/0.1666 = 0.4705\n",
      "P(Y=1|A=0,B=0,C=1) = 0.0714/0.1666 = 0.5293\n",
      "\n"
     ]
    }
   ],
   "execution_count": 1
  },
  {
   "cell_type": "markdown",
   "id": "3f18f1dd-f66d-45c9-abb9-5f80a4c95ddf",
   "metadata": {},
   "source": [
    "## Exercise 2\n",
    "\n",
    "Consider two random variables $X_1$ and $X_2$ and a label $Y$ assigned to each instance as in the dataset `d` created below.\n",
    "\n",
    "1. Classify the instance $X_1=0,X_2=0$ using Naive Bayes.\n",
    "\n",
    "1. According to Naive Bayes, what is the probability of this classification?\n",
    "\n",
    "1. How many probabilities are estimated by the model (check the `class_log_prior_` and `feature_log_prob_` attributes)?\n",
    "\n",
    "1. How many probabilities would be estimated by the model if there were $n$ features instead of 2?"
   ]
  },
  {
   "cell_type": "code",
   "id": "282a321a-de22-41ec-85c7-12833b244a65",
   "metadata": {
    "ExecuteTime": {
     "end_time": "2024-11-02T19:55:51.931389Z",
     "start_time": "2024-11-02T19:55:51.906626Z"
    }
   },
   "source": [
    "import pandas as pd\n",
    "from tools.pd_helpers import apply_counts\n",
    "\n",
    "d_grouped = pd.DataFrame({\n",
    "    'X1': [0, 0, 1, 1, 0, 0, 1, 1],\n",
    "    'X2': [0, 0, 0, 0, 1, 1, 1, 1],\n",
    "    'C' : [2, 18, 4, 1, 4, 1, 2, 18],\n",
    "    'Y' : [0, 1, 0, 1, 0, 1, 0, 1]})\n",
    "d = apply_counts(d_grouped, 'C')\n",
    "\n",
    "X = d[['X1', 'X2']]\n",
    "Y = d['Y']\n",
    "X_predict = pd.DataFrame({'X1': [0], 'X2': [0]})\n",
    "\n",
    "cl = BernoulliNB().fit(X, Y)\n",
    "# 2\n",
    "print(\"\\nPoint 1 & 2:\")\n",
    "print(f'Prediction: {cl.predict(X_predict)}')\n",
    "print(f'Prediction probabilities: {cl.predict_proba(X_predict)}')\n",
    "print(f'Prediction classes: {cl.classes_}')\n",
    "# 3\n",
    "print(\"\\nPoint 3:\")\n",
    "print(f'class_log_prior_: {cl.class_log_prior_}')\n",
    "print(f'feature_log_prob_: {cl.feature_log_prob_}')\n",
    "# 4 \n",
    "print(\"\\nPoint 4:\")\n",
    "print(\"We need P(Xᵢ=1|Y=0), P(Xᵢ=1|Y=1) for each feature Xi.\\nSo the number of probabilities is 2n for n features in features_log_prob_ and 1 probability(P(Y=1)) for class_log_prior_ for a label class with 2 classes. Total: 2n + 1 probabilities estimated obligatory. class_log_prior_ stores both the P(Y=1) and P(Y=0) probabilities so there are 2n + 2 probabilities in this case\")"
   ],
   "outputs": [
    {
     "name": "stdout",
     "output_type": "stream",
     "text": [
      "\n",
      "Point 1 & 2:\n",
      "Prediction: [1]\n",
      "Prediction probabilities: [[0.24 0.76]]\n",
      "Prediction classes: [0 1]\n",
      "\n",
      "Point 3:\n",
      "class_log_prior_: [-1.42711636 -0.27443685]\n",
      "feature_log_prob_: [[-0.69314718 -0.69314718]\n",
      " [-0.69314718 -0.69314718]]\n",
      "\n",
      "Point 4:\n",
      "We need P(Xᵢ=1|Y=0), P(Xᵢ=1|Y=1) for each feature Xi.\n",
      "So the number of probabilities is 2n for n features in features_log_prob_ and 1 probability(P(Y=1)) for class_log_prior_ for a label class with 2 classes. Total: 2n + 1 probabilities estimated\n"
     ]
    }
   ],
   "execution_count": 3
  }
 ],
 "metadata": {
  "kernelspec": {
   "display_name": "Python 3 (ipykernel)",
   "language": "python",
   "name": "python3"
  },
  "language_info": {
   "codemirror_mode": {
    "name": "ipython",
    "version": 3
   },
   "file_extension": ".py",
   "mimetype": "text/x-python",
   "name": "python",
   "nbconvert_exporter": "python",
   "pygments_lexer": "ipython3",
   "version": "3.12.3"
  }
 },
 "nbformat": 4,
 "nbformat_minor": 5
}
