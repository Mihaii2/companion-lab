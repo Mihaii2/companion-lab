{
 "cells": [
  {
   "cell_type": "markdown",
   "metadata": {},
   "source": [
    "# Introduction to Information Theory\n",
    "\n",
    "## Exercise 1\n",
    "\n",
    "(entropy, implementation)\n",
    "\n",
    "Consider two fair dice with 6 sides each.\n",
    "\n",
    "1. Print the probability distribution of the sum $S$ of the numbers obtained by throwing the two dice.\n",
    "1. What is the information content in bits of the events $S=2$, $S=11$, $S=5$, $S=7$.\n",
    "1. Calculate the entropy of S.\n",
    "1. Lets say you throw the die one at a time, and the first die shows 4. What is the entropy of S after this observation? Was any information gained/lost in the process of observing the outcome of the first die toss? If so, calculate how much information (in bits) was lost or gained."
   ]
  },
  {
   "metadata": {
    "ExecuteTime": {
     "end_time": "2024-10-17T20:36:41.889299Z",
     "start_time": "2024-10-17T20:36:41.355377Z"
    }
   },
   "cell_type": "code",
   "source": [
    "import math\n",
    "import matplotlib.pyplot as plt\n",
    "\n",
    "# 1.\n",
    "\n",
    "distribution = [1/36, 2/36, 3/36, 4/36, 5/36, 6/36, 5/36, 4/36, 3/36, 2/36, 1/36]\n",
    "sums = list(range(2, 13))\n",
    "\n",
    "plt.bar(sums, distribution, width = 0.5, edgecolor='black')\n",
    "\n",
    "# 2.\n",
    "for S in [2, 11, 5, 7]:\n",
    "    print(f'Information content for S value {S}: {math.log2(1/distribution[S - 2])} bits')\n",
    "\n",
    "# 3.\n",
    "entropy = sum([prob * math.log2(1/prob) for prob in distribution])\n",
    "print(f'Entropy of S: {entropy}')\n",
    "\n",
    "distribution_first_4 = [1/6, 1/6, 1/6, 1/6, 1/6, 1/6]\n",
    "\n",
    "new_entropy = sum([prob * math.log2(1/prob) for prob in distribution_first_4])\n",
    "\n",
    "print(f'New entropy: {new_entropy}')\n",
    "print(f'Information gain: {entropy - new_entropy} bits')"
   ],
   "outputs": [
    {
     "name": "stdout",
     "output_type": "stream",
     "text": [
      "Information content for S value 2: 5.169925001442312 bits\n",
      "Information content for S value 11: 4.169925001442312 bits\n",
      "Information content for S value 5: 3.169925001442312 bits\n",
      "Information content for S value 7: 2.584962500721156 bits\n",
      "Entropy of S: 3.2744019192887706\n",
      "New entropy: 2.584962500721156\n",
      "Information gain: 0.6894394185676145 bits\n"
     ]
    },
    {
     "data": {
      "text/plain": [
       "<Figure size 640x480 with 1 Axes>"
      ],
      "image/png": "[encoded data removed]"
     },
     "metadata": {},
     "output_type": "display_data"
    }
   ],
   "execution_count": 4
  },
  {
   "cell_type": "markdown",
   "metadata": {},
   "source": [
    "## Exercise 2\n",
    "\n",
    "(information gain, implementation or analysis)\n",
    "\n",
    "Given the dataset below, calculate the information gain for the target variable 'Edible' and each feature ('Weight', 'Smell', 'Spots', 'Smooth'):"
   ]
  },
  {
   "cell_type": "code",
   "metadata": {
    "ExecuteTime": {
     "end_time": "2024-10-17T20:33:11.367890Z",
     "start_time": "2024-10-17T20:33:09.718959Z"
    }
   },
   "source": [
    "import pandas as pd\n",
    "features = ['Weight', 'Smell', 'Spots', 'Smooth', 'Edible']\n",
    "mushrooms = pd.DataFrame([\n",
    "  (1, 0, 0, 0, 1),\n",
    "  (1, 0, 1, 0, 1),\n",
    "  (0, 1, 0, 1, 1),\n",
    "  (0, 0, 0, 1, 0),\n",
    "  (1, 1, 1, 0, 0),\n",
    "  (1, 0, 1, 1, 0),\n",
    "  (1, 0, 0, 1, 0),\n",
    "  (0, 1, 0, 0, 0)\n",
    "],\n",
    "index=['A', 'B', 'C', 'D', 'E', 'F', 'G', 'H'],\n",
    "columns=features)\n",
    "print(mushrooms)"
   ],
   "outputs": [
    {
     "name": "stdout",
     "output_type": "stream",
     "text": [
      "   Weight  Smell  Spots  Smooth  Edible\n",
      "A       1      0      0       0       1\n",
      "B       1      0      1       0       1\n",
      "C       0      1      0       1       1\n",
      "D       0      0      0       1       0\n",
      "E       1      1      1       0       0\n",
      "F       1      0      1       1       0\n",
      "G       1      0      0       1       0\n",
      "H       0      1      0       0       0\n"
     ]
    }
   ],
   "execution_count": 13
  },
  {
   "cell_type": "markdown",
   "metadata": {},
   "source": [
    "## Exercise 3\n",
    "\n",
    "(entropy and information gain, implementation or analysis)\n",
    "\n",
    "The following code simulates the season results for football team F:"
   ]
  },
  {
   "metadata": {
    "ExecuteTime": {
     "end_time": "2024-10-17T20:33:11.718452Z",
     "start_time": "2024-10-17T20:33:11.429968Z"
    }
   },
   "cell_type": "code",
   "source": [
    "from itertools import product\n",
    "import pandas as pd\n",
    "import random\n",
    "random.seed(1)\n",
    "opponents = ['Team '+chr(ord('A') + i) for i in range(5)]\n",
    "stadiums = ['Home', 'Away']\n",
    "games = pd.DataFrame(list(product(opponents, stadiums))*2,\n",
    "                     columns=['opponent', 'stadium'])\n",
    "total_games = len(games)\n",
    "games['result'] = random.choices([\"Win\", \"Loss\", \"Draw\"],\n",
    "                                 k=total_games)\n",
    "# print(games)\n",
    "\n",
    "# sorry\n",
    "entropy_result = sum([games['result'].str.contains(result).sum() / games['result'].__len__() * -math.log2(games['result'].str.contains(result).sum() / games['result'].__len__()) for result in [\"Win\", \"Loss\", \"Draw\"]])\n",
    "\n",
    "print(f'H(result) = {entropy_result}')\n",
    "\n",
    "home_games = games.loc[games['stadium'] == 'Home']\n",
    "away_games = games.loc[games['stadium'] == 'Away']\n",
    "\n",
    "counts = home_games['result'].value_counts()\n",
    "home_games_entropy = sum([-math.log2(count / len(home_games)) * (count / len(home_games)) for count in counts])\n",
    "\n",
    "counts = away_games['result'].value_counts()\n",
    "away_games_entropy = sum([-math.log2(count / len(away_games)) * (count / len(away_games)) for count in counts])\n",
    "\n",
    "probability_home = len(home_games) / total_games\n",
    "probability_away = len(away_games) / total_games\n",
    "avg_entropy_stadium = probability_home * home_games_entropy + probability_away * away_games_entropy\n",
    "\n",
    "print(f'1)\\nH(result|stadium) = {avg_entropy_stadium}')\n",
    "\n",
    "def calc_entropy_opponent(opponent):\n",
    "    opponent_games = games.loc[games['opponent'] == opponent]\n",
    "    counts = opponent_games['result'].value_counts()\n",
    "    entropy = sum([-math.log2(count / len(opponent_games)) * (count / len(opponent_games)) for count in counts])\n",
    "    return entropy\n",
    "\n",
    "opponents_entropies = pd.DataFrame([calc_entropy_opponent(opponent) for opponent in opponents], columns=[\"entropy\"])\n",
    "opponents_entropies['probabilities'] = [len(games.loc[games['opponent'] == opponent]) / total_games for opponent in opponents]\n",
    "\n",
    "# print(opponents_entropies)\n",
    "\n",
    "avg_entropy_opponents = sum(opponents_entropies['entropy'] * opponents_entropies['probabilities'])\n",
    "\n",
    "print(f'2)\\nH(result|opponent) = {avg_entropy_opponents}')\n",
    "\n",
    "print(f\"3)\\nIG(result;opponent) = H(result) - H(result|opponent = {entropy_result - avg_entropy_opponents}\\n is higher than \\nIG(result;stadium) = H(result) - H(result|stadium = {entropy_result - avg_entropy_stadium}\\ntherefore, the variable opponent is more important in deciding the result of the game\")"
   ],
   "outputs": [
    {
     "ename": "TypeError",
     "evalue": "'int' object is not callable",
     "output_type": "error",
     "traceback": [
      "\u001B[1;31m---------------------------------------------------------------------------\u001B[0m",
      "\u001B[1;31mTypeError\u001B[0m                                 Traceback (most recent call last)",
      "Cell \u001B[1;32mIn[14], line 15\u001B[0m\n\u001B[0;32m     10\u001B[0m games[\u001B[38;5;124m'\u001B[39m\u001B[38;5;124mresult\u001B[39m\u001B[38;5;124m'\u001B[39m] \u001B[38;5;241m=\u001B[39m random\u001B[38;5;241m.\u001B[39mchoices([\u001B[38;5;124m\"\u001B[39m\u001B[38;5;124mWin\u001B[39m\u001B[38;5;124m\"\u001B[39m, \u001B[38;5;124m\"\u001B[39m\u001B[38;5;124mLoss\u001B[39m\u001B[38;5;124m\"\u001B[39m, \u001B[38;5;124m\"\u001B[39m\u001B[38;5;124mDraw\u001B[39m\u001B[38;5;124m\"\u001B[39m],\n\u001B[0;32m     11\u001B[0m                                  k\u001B[38;5;241m=\u001B[39mtotal_games)\n\u001B[0;32m     12\u001B[0m \u001B[38;5;66;03m# print(games)\u001B[39;00m\n\u001B[0;32m     13\u001B[0m \n\u001B[0;32m     14\u001B[0m \u001B[38;5;66;03m# sorry\u001B[39;00m\n\u001B[1;32m---> 15\u001B[0m entropy_result \u001B[38;5;241m=\u001B[39m \u001B[38;5;28;43msum\u001B[39;49m\u001B[43m(\u001B[49m\u001B[43m[\u001B[49m\u001B[43mgames\u001B[49m\u001B[43m[\u001B[49m\u001B[38;5;124;43m'\u001B[39;49m\u001B[38;5;124;43mresult\u001B[39;49m\u001B[38;5;124;43m'\u001B[39;49m\u001B[43m]\u001B[49m\u001B[38;5;241;43m.\u001B[39;49m\u001B[43mstr\u001B[49m\u001B[38;5;241;43m.\u001B[39;49m\u001B[43mcontains\u001B[49m\u001B[43m(\u001B[49m\u001B[43mresult\u001B[49m\u001B[43m)\u001B[49m\u001B[38;5;241;43m.\u001B[39;49m\u001B[43msum\u001B[49m\u001B[43m(\u001B[49m\u001B[43m)\u001B[49m\u001B[43m \u001B[49m\u001B[38;5;241;43m/\u001B[39;49m\u001B[43m \u001B[49m\u001B[43mgames\u001B[49m\u001B[43m[\u001B[49m\u001B[38;5;124;43m'\u001B[39;49m\u001B[38;5;124;43mresult\u001B[39;49m\u001B[38;5;124;43m'\u001B[39;49m\u001B[43m]\u001B[49m\u001B[38;5;241;43m.\u001B[39;49m\u001B[38;5;21;43m__len__\u001B[39;49m\u001B[43m(\u001B[49m\u001B[43m)\u001B[49m\u001B[43m \u001B[49m\u001B[38;5;241;43m*\u001B[39;49m\u001B[43m \u001B[49m\u001B[38;5;241;43m-\u001B[39;49m\u001B[43mmath\u001B[49m\u001B[38;5;241;43m.\u001B[39;49m\u001B[43mlog2\u001B[49m\u001B[43m(\u001B[49m\u001B[43mgames\u001B[49m\u001B[43m[\u001B[49m\u001B[38;5;124;43m'\u001B[39;49m\u001B[38;5;124;43mresult\u001B[39;49m\u001B[38;5;124;43m'\u001B[39;49m\u001B[43m]\u001B[49m\u001B[38;5;241;43m.\u001B[39;49m\u001B[43mstr\u001B[49m\u001B[38;5;241;43m.\u001B[39;49m\u001B[43mcontains\u001B[49m\u001B[43m(\u001B[49m\u001B[43mresult\u001B[49m\u001B[43m)\u001B[49m\u001B[38;5;241;43m.\u001B[39;49m\u001B[43msum\u001B[49m\u001B[43m(\u001B[49m\u001B[43m)\u001B[49m\u001B[43m \u001B[49m\u001B[38;5;241;43m/\u001B[39;49m\u001B[43m \u001B[49m\u001B[43mgames\u001B[49m\u001B[43m[\u001B[49m\u001B[38;5;124;43m'\u001B[39;49m\u001B[38;5;124;43mresult\u001B[39;49m\u001B[38;5;124;43m'\u001B[39;49m\u001B[43m]\u001B[49m\u001B[38;5;241;43m.\u001B[39;49m\u001B[38;5;21;43m__len__\u001B[39;49m\u001B[43m(\u001B[49m\u001B[43m)\u001B[49m\u001B[43m)\u001B[49m\u001B[43m \u001B[49m\u001B[38;5;28;43;01mfor\u001B[39;49;00m\u001B[43m \u001B[49m\u001B[43mresult\u001B[49m\u001B[43m \u001B[49m\u001B[38;5;129;43;01min\u001B[39;49;00m\u001B[43m \u001B[49m\u001B[43m[\u001B[49m\u001B[38;5;124;43m\"\u001B[39;49m\u001B[38;5;124;43mWin\u001B[39;49m\u001B[38;5;124;43m\"\u001B[39;49m\u001B[43m,\u001B[49m\u001B[43m \u001B[49m\u001B[38;5;124;43m\"\u001B[39;49m\u001B[38;5;124;43mLoss\u001B[39;49m\u001B[38;5;124;43m\"\u001B[39;49m\u001B[43m,\u001B[49m\u001B[43m \u001B[49m\u001B[38;5;124;43m\"\u001B[39;49m\u001B[38;5;124;43mDraw\u001B[39;49m\u001B[38;5;124;43m\"\u001B[39;49m\u001B[43m]\u001B[49m\u001B[43m]\u001B[49m\u001B[43m)\u001B[49m\n\u001B[0;32m     17\u001B[0m \u001B[38;5;28mprint\u001B[39m(\u001B[38;5;124mf\u001B[39m\u001B[38;5;124m'\u001B[39m\u001B[38;5;124mH(result) = \u001B[39m\u001B[38;5;132;01m{\u001B[39;00mentropy_result\u001B[38;5;132;01m}\u001B[39;00m\u001B[38;5;124m'\u001B[39m)\n\u001B[0;32m     19\u001B[0m home_games \u001B[38;5;241m=\u001B[39m games\u001B[38;5;241m.\u001B[39mloc[games[\u001B[38;5;124m'\u001B[39m\u001B[38;5;124mstadium\u001B[39m\u001B[38;5;124m'\u001B[39m] \u001B[38;5;241m==\u001B[39m \u001B[38;5;124m'\u001B[39m\u001B[38;5;124mHome\u001B[39m\u001B[38;5;124m'\u001B[39m]\n",
      "\u001B[1;31mTypeError\u001B[0m: 'int' object is not callable"
     ]
    }
   ],
   "execution_count": 14
  },
  {
   "cell_type": "markdown",
   "metadata": {},
   "source": [
    "1. What is the entropy of the `result` $H(result)$ (ignoring all other variables)?\n",
    "1. What are the average conditional entropies $H(result | stadium)$ and $H(result | opponent)$?\n",
    "1. Which of the two variables is more important in deciding the result of a game? Answer this question by calculating the information gain for the two variables: $IG(result; stadium)$ and $IG(result;opponent)$."
   ]
  },
  {
   "cell_type": "markdown",
   "metadata": {},
   "source": [
    "# Exercise 4\n",
    "\n",
    "(entropy, implementation or analysis)\n",
    "\n",
    "Consider the random variable $C$ \"a person has a cold\" and the random variable $T$ \"outside temperature\". The joint distribution of the two variables is given below:"
   ]
  },
  {
   "cell_type": "code",
   "metadata": {
    "ExecuteTime": {
     "end_time": "2024-10-17T20:33:12.044937Z",
     "start_time": "2024-10-17T20:33:12.022285Z"
    }
   },
   "source": [
    "import pandas as pd\n",
    "d = pd.DataFrame({'T_Sunny': [0.3, 0.05], \n",
    "                  'T_Rainy': [0.2, 0.15], \n",
    "                  'T_Snowy': [0.1, 0.2]}, \n",
    "                 index=['C_No', 'C_Yes'])\n",
    "d"
   ],
   "outputs": [
    {
     "data": {
      "text/plain": [
       "       T_Sunny  T_Rainy  T_Snowy\n",
       "C_No      0.30     0.20      0.1\n",
       "C_Yes     0.05     0.15      0.2"
      ],
      "text/html": [
       "<div>\n",
       "<style scoped>\n",
       "    .dataframe tbody tr th:only-of-type {\n",
       "        vertical-align: middle;\n",
       "    }\n",
       "\n",
       "    .dataframe tbody tr th {\n",
       "        vertical-align: top;\n",
       "    }\n",
       "\n",
       "    .dataframe thead th {\n",
       "        text-align: right;\n",
       "    }\n",
       "</style>\n",
       "<table border=\"1\" class=\"dataframe\">\n",
       "  <thead>\n",
       "    <tr style=\"text-align: right;\">\n",
       "      <th></th>\n",
       "      <th>T_Sunny</th>\n",
       "      <th>T_Rainy</th>\n",
       "      <th>T_Snowy</th>\n",
       "    </tr>\n",
       "  </thead>\n",
       "  <tbody>\n",
       "    <tr>\n",
       "      <th>C_No</th>\n",
       "      <td>0.30</td>\n",
       "      <td>0.20</td>\n",
       "      <td>0.1</td>\n",
       "    </tr>\n",
       "    <tr>\n",
       "      <th>C_Yes</th>\n",
       "      <td>0.05</td>\n",
       "      <td>0.15</td>\n",
       "      <td>0.2</td>\n",
       "    </tr>\n",
       "  </tbody>\n",
       "</table>\n",
       "</div>"
      ]
     },
     "execution_count": 15,
     "metadata": {},
     "output_type": "execute_result"
    }
   ],
   "execution_count": 15
  },
  {
   "cell_type": "markdown",
   "metadata": {},
   "source": [
    "1. Plot the pmf of $C$ and $T$.\n",
    "1. Calculate $H(C)$, $H(T)$.\n",
    "1. Calculate $H(C|T)$, $H(T|C)$. Does the temperature (T) reduce the uncertainty regarding someone having a cold (C)?"
   ]
  },
  {
   "cell_type": "markdown",
   "metadata": {},
   "source": [
    "# Exercise 5\n",
    "\n",
    "(decision tree, implementation)\n",
    "\n",
    "Consider the Boolean expression $A \\lor (B \\land C)$. The corresponding truth table can be generated with:"
   ]
  },
  {
   "cell_type": "code",
   "metadata": {
    "ExecuteTime": {
     "end_time": "2024-10-17T20:33:13.141158Z",
     "start_time": "2024-10-17T20:33:13.134094Z"
    }
   },
   "source": [
    "from itertools import product\n",
    "X = [list(c) for c in product([0,1], repeat=3)]\n",
    "y = [A or (B and C) for A, B, C in X]"
   ],
   "outputs": [],
   "execution_count": 16
  },
  {
   "cell_type": "markdown",
   "metadata": {},
   "source": [
    "1. Fit a decision tree classifier on the truth table above and visualise the resulting tree. Make sure to use the entropy as a metric.\n",
    "1. Is the tree above optimal? Can you find a decision tree with fewer levels or nodes that correctly represents this function?"
   ]
  }
 ],
 "metadata": {
  "kernelspec": {
   "display_name": "Python 3 (ipykernel)",
   "language": "python",
   "name": "python3"
  },
  "language_info": {
   "codemirror_mode": {
    "name": "ipython",
    "version": 3
   },
   "file_extension": ".py",
   "mimetype": "text/x-python",
   "name": "python",
   "nbconvert_exporter": "python",
   "pygments_lexer": "ipython3",
   "version": "3.12.3"
  }
 },
 "nbformat": 4,
 "nbformat_minor": 4
}
